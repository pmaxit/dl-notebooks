{
 "cells": [
  {
   "cell_type": "markdown",
   "metadata": {},
   "source": [
    "# CIFAR"
   ]
  },
  {
   "cell_type": "code",
   "execution_count": null,
   "metadata": {},
   "outputs": [],
   "source": [
    "%matplotlib inline\n",
    "%load_ext autoreload\n",
    "%autoreload 2"
   ]
  },
  {
   "cell_type": "markdown",
   "metadata": {},
   "source": [
    "### Why we use CIFAR dataset \n",
    "\n",
    "1. CIFAR : very small images and low number of images. \n",
    "2. Quick turnaround if we are working on CIFAR rather than imagenette"
   ]
  },
  {
   "cell_type": "code",
   "execution_count": null,
   "metadata": {},
   "outputs": [],
   "source": [
    "from fastai2.basics import *\n",
    "from fastai2.callback.all import *\n",
    "from fastai2.vision.all import *\n",
    "\n",
    "from fastai2.data.all import *\n",
    "from fastai2.vision.core import *\n",
    "from fastai2.vision.data import *\n",
    "import matplotlib.pyplot as plt\n",
    "from fastai2.callback import *\n",
    "\n",
    "\n",
    "from dlnotebooks.models.simplecnn import *\n",
    "from dlnotebooks.models.resnet import *\n"
   ]
  },
  {
   "cell_type": "code",
   "execution_count": null,
   "metadata": {},
   "outputs": [],
   "source": [
    "def accuracy1(inp, targ, axis=-1):\n",
    "    \"Compute accuracy with `targ` when `pred` is bs * n_classes\"\n",
    "    pred,targ = flatten_check(inp.argmax(dim=axis), targ)\n",
    "    return (pred.int() == targ).float().mean()"
   ]
  },
  {
   "cell_type": "markdown",
   "metadata": {},
   "source": [
    "# Gathering the data\n",
    "\n",
    "We will download the data from fastai repository. It's a convenient method to collect the samples"
   ]
  },
  {
   "cell_type": "code",
   "execution_count": null,
   "metadata": {},
   "outputs": [],
   "source": [
    "Resiz"
   ]
  },
  {
   "cell_type": "code",
   "execution_count": null,
   "metadata": {},
   "outputs": [
    {
     "data": {
      "text/plain": [
       "Path('C:/Users/t158185/.fastai/data/cifar10/test/airplane/1001_airplane.png')"
      ]
     },
     "execution_count": null,
     "metadata": {},
     "output_type": "execute_result"
    }
   ],
   "source": [
    "source = untar_data(URLs.CIFAR)\n",
    "images = get_image_files(source)\n",
    "fn = images[0];fn"
   ]
  },
  {
   "cell_type": "markdown",
   "metadata": {},
   "source": [
    "# Create data source\n",
    "\n",
    "Data source consists of adding transformation for items and assign it to either X or Y. In our case, we will define two transformations\n",
    "\n",
    "1. Load the image and call it X\n",
    "2. Load the path , extract label and call it Y"
   ]
  },
  {
   "cell_type": "code",
   "execution_count": null,
   "metadata": {},
   "outputs": [
    {
     "data": {
      "text/plain": [
       "'airplane'"
      ]
     },
     "execution_count": null,
     "metadata": {},
     "output_type": "execute_result"
    }
   ],
   "source": [
    "labeller = RegexLabeller(pat = r'.*?[\\\\/](\\w+)[\\\\/]\\d+_\\w+.png$') # parent_label\n",
    "labeller(fn)"
   ]
  },
  {
   "cell_type": "code",
   "execution_count": null,
   "metadata": {},
   "outputs": [],
   "source": [
    "class ImageResizer(Transform):\n",
    "    order =0\n",
    "    \"Resize the image using resample\"\n",
    "    def __init__(self, size, resample=Image.BILINEAR):\n",
    "        if not is_listy(size): self.size=(size, size)\n",
    "        self.size, self.resample = size, resample\n",
    "        \n",
    "    def encodes(self, o:PILImage): return o.resize(size=self.size, resample = self.resample)\n",
    "    def encodes(self, o:PILMask): return o.resize(size=self.size, resample=Image.NEAREST)\n",
    "    "
   ]
  },
  {
   "cell_type": "code",
   "execution_count": null,
   "metadata": {},
   "outputs": [],
   "source": [
    "tfms =[[PILImage.create ], [labeller, Categorize() ]]\n",
    "dsrc = DataSource(images, tfms)"
   ]
  },
  {
   "cell_type": "code",
   "execution_count": null,
   "metadata": {},
   "outputs": [
    {
     "data": {
      "text/plain": [
       "(#10) ['airplane','automobile','bird','cat','deer','dog','frog','horse','ship','truck']"
      ]
     },
     "execution_count": null,
     "metadata": {},
     "output_type": "execute_result"
    }
   ],
   "source": [
    "dsrc.categorize.vocab"
   ]
  },
  {
   "cell_type": "code",
   "execution_count": null,
   "metadata": {},
   "outputs": [
    {
     "data": {
      "text/plain": [
       "(fastai2.vision.core.PILImage, fastai2.torch_core.TensorCategory)"
      ]
     },
     "execution_count": null,
     "metadata": {},
     "output_type": "execute_result"
    }
   ],
   "source": [
    "#hide\n",
    "t = dsrc[0]\n",
    "type(t[0]), type(t[1])"
   ]
  },
  {
   "cell_type": "code",
   "execution_count": null,
   "metadata": {},
   "outputs": [],
   "source": [
    "x, y = dsrc.decode(t)"
   ]
  },
  {
   "cell_type": "code",
   "execution_count": null,
   "metadata": {},
   "outputs": [
    {
     "data": {
      "text/plain": [
       "<matplotlib.axes._subplots.AxesSubplot at 0x2139c2b9898>"
      ]
     },
     "execution_count": null,
     "metadata": {},
     "output_type": "execute_result"
    },
    {
     "data": {
      "image/png": "[encoded data removed]",
      "text/plain": [
       "<Figure size 72x72 with 1 Axes>"
      ]
     },
     "metadata": {
      "needs_background": "light"
     },
     "output_type": "display_data"
    }
   ],
   "source": [
    "dsrc.show(t)"
   ]
  },
  {
   "cell_type": "markdown",
   "metadata": {},
   "source": [
    "# Data Loader\n",
    "\n",
    "After we are satisfied with the data, we can load the data in memory using batch."
   ]
  },
  {
   "cell_type": "code",
   "execution_count": null,
   "metadata": {},
   "outputs": [
    {
     "data": {
      "text/plain": [
       "(torch.Size([3, 32, 32]), 'airplane')"
      ]
     },
     "execution_count": null,
     "metadata": {},
     "output_type": "execute_result"
    }
   ],
   "source": [
    "tdl = TfmdDL(dsrc, bs=16, after_item=[ImageResizer((32,32)), ToTensor(), IntToFloatTensor()])\n",
    "\n",
    "t = tdl.one_batch()\n",
    "x, y = tdl.decode_batch(t)[0]\n",
    "x.shape, y"
   ]
  },
  {
   "cell_type": "code",
   "execution_count": null,
   "metadata": {},
   "outputs": [
    {
     "data": {
      "text/plain": [
       "<matplotlib.axes._subplots.AxesSubplot at 0x2139ea0ce80>"
      ]
     },
     "execution_count": null,
     "metadata": {},
     "output_type": "execute_result"
    },
    {
     "data": {
      "image/png": "[encoded data removed]",
      "text/plain": [
       "<Figure size 72x72 with 1 Axes>"
      ]
     },
     "metadata": {
      "needs_background": "light"
     },
     "output_type": "display_data"
    }
   ],
   "source": [
    "dsrc.show((x, y))"
   ]
  },
  {
   "cell_type": "code",
   "execution_count": null,
   "metadata": {},
   "outputs": [],
   "source": [
    "split_idx = RandomSplitter()(images)\n",
    "tfms =[[PILImage.create ], [labeller, Categorize() ]]\n",
    "dsrc = DataSource(images, tfms, splits=split_idx)\n",
    "\n",
    "dbunch = dsrc.databunch(bs=16, after_item=[ImageResizer((32,32)), ToTensor(), IntToFloatTensor()], num_workers=0)"
   ]
  },
  {
   "cell_type": "code",
   "execution_count": null,
   "metadata": {},
   "outputs": [
    {
     "data": {
      "image/png": "[encoded data removed]",
      "text/plain": [
       "<Figure size 648x648 with 9 Axes>"
      ]
     },
     "metadata": {
      "needs_background": "light"
     },
     "output_type": "display_data"
    }
   ],
   "source": [
    "dbunch.show_batch()"
   ]
  },
  {
   "cell_type": "markdown",
   "metadata": {},
   "source": [
    "# Simple Linear Connected"
   ]
  },
  {
   "cell_type": "markdown",
   "metadata": {},
   "source": [
    "Write model for simple linear connected"
   ]
  },
  {
   "cell_type": "markdown",
   "metadata": {},
   "source": [
    "# Simple CNN without BN"
   ]
  },
  {
   "cell_type": "code",
   "execution_count": null,
   "metadata": {},
   "outputs": [
    {
     "data": {
      "text/plain": [
       "SimpleCNN(\n",
       "  (conv1): Conv2d(3, 10, kernel_size=(5, 5), stride=(1, 1), padding=(3, 3))\n",
       "  (conv2): Sequential(\n",
       "    (0): Conv2d(10, 20, kernel_size=(3, 3), stride=(1, 1), padding=(1, 1))\n",
       "    (1): MaxPool2d(kernel_size=2, stride=2, padding=0, dilation=1, ceil_mode=False)\n",
       "  )\n",
       "  (conv3): Sequential(\n",
       "    (0): Conv2d(20, 40, kernel_size=(3, 3), stride=(1, 1), padding=(1, 1))\n",
       "    (1): MaxPool2d(kernel_size=2, stride=2, padding=0, dilation=1, ceil_mode=False)\n",
       "  )\n",
       "  (conv4): Sequential(\n",
       "    (0): Conv2d(40, 60, kernel_size=(3, 3), stride=(1, 1), padding=(1, 1))\n",
       "    (1): MaxPool2d(kernel_size=2, stride=2, padding=0, dilation=1, ceil_mode=False)\n",
       "  )\n",
       "  (conv_out): Conv2d(60, 10, kernel_size=(3, 3), stride=(1, 1), padding=(1, 1))\n",
       ")"
      ]
     },
     "execution_count": null,
     "metadata": {},
     "output_type": "execute_result"
    }
   ],
   "source": [
    "model = SimpleCNN(); model"
   ]
  },
  {
   "cell_type": "code",
   "execution_count": null,
   "metadata": {},
   "outputs": [],
   "source": [
    "learn = Learner(dbunch, model , loss_func=LabelSmoothingCrossEntropy(), metrics=[accuracy1], cb_funcs =[MixUp], cbs=[ActivationStats(with_hist=True)] ).to_fp16()"
   ]
  },
  {
   "cell_type": "code",
   "execution_count": null,
   "metadata": {},
   "outputs": [
    {
     "data": {
      "text/plain": [
       "SimpleCNN (Input shape: ['16 x 3 x 32 x 32'])\n",
       "================================================================\n",
       "Layer (type)         Output Shape         Param #    Trainable \n",
       "================================================================\n",
       "Conv2d               16 x 10 x 34 x 34    760        True      \n",
       "________________________________________________________________\n",
       "Conv2d               16 x 20 x 34 x 34    1,820      True      \n",
       "________________________________________________________________\n",
       "MaxPool2d            16 x 20 x 17 x 17    0          False     \n",
       "________________________________________________________________\n",
       "Conv2d               16 x 40 x 17 x 17    7,240      True      \n",
       "________________________________________________________________\n",
       "MaxPool2d            16 x 40 x 8 x 8      0          False     \n",
       "________________________________________________________________\n",
       "Conv2d               16 x 60 x 8 x 8      21,660     True      \n",
       "________________________________________________________________\n",
       "MaxPool2d            16 x 60 x 4 x 4      0          False     \n",
       "________________________________________________________________\n",
       "Conv2d               16 x 10 x 4 x 4      5,410      True      \n",
       "________________________________________________________________\n",
       "\n",
       "Total params: 36,890\n",
       "Total trainable params: 36,890\n",
       "Total non-trainable params: 0\n",
       "\n",
       "Optimizer used: <function Adam at 0x000001CF87983EA0>\n",
       "Loss function: LabelSmoothingCrossEntropy()\n",
       "\n",
       "Callbacks:\n",
       "  - MixUp\n",
       "  - ActivationStats\n",
       "  - ModelToHalf\n",
       "  - TrainEvalCallback\n",
       "  - Recorder\n",
       "  - ProgressCallback\n",
       "  - MixedPrecision"
      ]
     },
     "execution_count": null,
     "metadata": {},
     "output_type": "execute_result"
    }
   ],
   "source": [
    "learn.summary()"
   ]
  },
  {
   "cell_type": "code",
   "execution_count": null,
   "metadata": {},
   "outputs": [
    {
     "data": {
      "text/html": [],
      "text/plain": [
       "<IPython.core.display.HTML object>"
      ]
     },
     "metadata": {},
     "output_type": "display_data"
    },
    {
     "data": {
      "image/png": "[encoded data removed]",
      "text/plain": [
       "<Figure size 432x288 with 1 Axes>"
      ]
     },
     "metadata": {
      "needs_background": "light"
     },
     "output_type": "display_data"
    }
   ],
   "source": [
    "learn.lr_find()"
   ]
  },
  {
   "cell_type": "code",
   "execution_count": null,
   "metadata": {},
   "outputs": [
    {
     "data": {
      "text/html": [
       "<table border=\"1\" class=\"dataframe\">\n",
       "  <thead>\n",
       "    <tr style=\"text-align: left;\">\n",
       "      <th>epoch</th>\n",
       "      <th>train_loss</th>\n",
       "      <th>valid_loss</th>\n",
       "      <th>accuracy1</th>\n",
       "      <th>time</th>\n",
       "    </tr>\n",
       "  </thead>\n",
       "  <tbody>\n",
       "    <tr>\n",
       "      <td>0</td>\n",
       "      <td>2.052737</td>\n",
       "      <td>1.953522</td>\n",
       "      <td>0.336667</td>\n",
       "      <td>07:07</td>\n",
       "    </tr>\n",
       "    <tr>\n",
       "      <td>1</td>\n",
       "      <td>1.953305</td>\n",
       "      <td>1.810193</td>\n",
       "      <td>0.423583</td>\n",
       "      <td>06:41</td>\n",
       "    </tr>\n",
       "    <tr>\n",
       "      <td>2</td>\n",
       "      <td>1.916734</td>\n",
       "      <td>1.739011</td>\n",
       "      <td>0.461750</td>\n",
       "      <td>06:35</td>\n",
       "    </tr>\n",
       "  </tbody>\n",
       "</table>"
      ],
      "text/plain": [
       "<IPython.core.display.HTML object>"
      ]
     },
     "metadata": {},
     "output_type": "display_data"
    }
   ],
   "source": [
    "learn.fit_one_cycle(3, lr_max=10e-3)"
   ]
  },
  {
   "cell_type": "markdown",
   "metadata": {},
   "source": [
    "# Simple CNN with BN"
   ]
  },
  {
   "cell_type": "markdown",
   "metadata": {},
   "source": [
    "Batch Normalization allows us to use higher learning rate. This controls the distribution at every layer and hence model becomes more robust to the changes."
   ]
  },
  {
   "cell_type": "code",
   "execution_count": null,
   "metadata": {},
   "outputs": [
    {
     "data": {
      "text/plain": [
       "SimpleCNNWITHBN(\n",
       "  (conv1): Conv2d(3, 10, kernel_size=(5, 5), stride=(1, 1), padding=(3, 3))\n",
       "  (conv2): Sequential(\n",
       "    (0): Conv2d(10, 20, kernel_size=(3, 3), stride=(1, 1), padding=(1, 1))\n",
       "    (1): BatchNorm2d(20, eps=1e-05, momentum=0.1, affine=True, track_running_stats=True)\n",
       "    (2): ReLU()\n",
       "    (3): MaxPool2d(kernel_size=2, stride=2, padding=0, dilation=1, ceil_mode=False)\n",
       "  )\n",
       "  (conv3): Sequential(\n",
       "    (0): Conv2d(20, 40, kernel_size=(3, 3), stride=(1, 1), padding=(1, 1))\n",
       "    (1): BatchNorm2d(40, eps=1e-05, momentum=0.1, affine=True, track_running_stats=True)\n",
       "    (2): ReLU()\n",
       "    (3): MaxPool2d(kernel_size=2, stride=2, padding=0, dilation=1, ceil_mode=False)\n",
       "  )\n",
       "  (conv4): Sequential(\n",
       "    (0): Conv2d(40, 60, kernel_size=(3, 3), stride=(1, 1), padding=(1, 1))\n",
       "    (1): BatchNorm2d(60, eps=1e-05, momentum=0.1, affine=True, track_running_stats=True)\n",
       "    (2): ReLU()\n",
       "    (3): MaxPool2d(kernel_size=2, stride=2, padding=0, dilation=1, ceil_mode=False)\n",
       "  )\n",
       "  (conv_out): Conv2d(60, 10, kernel_size=(3, 3), stride=(1, 1), padding=(1, 1))\n",
       ")"
      ]
     },
     "execution_count": null,
     "metadata": {},
     "output_type": "execute_result"
    }
   ],
   "source": [
    "model = SimpleCNNWITHBN(); model"
   ]
  },
  {
   "cell_type": "markdown",
   "metadata": {},
   "source": [
    "Simple CNN"
   ]
  },
  {
   "cell_type": "code",
   "execution_count": null,
   "metadata": {},
   "outputs": [],
   "source": [
    "learn = Learner(dbunch, model , loss_func=LabelSmoothingCrossEntropy(), metrics=[accuracy1], cb_funcs =[MixUp], cbs=[ActivationStats(with_hist=True)] ).to_fp16()"
   ]
  },
  {
   "cell_type": "code",
   "execution_count": null,
   "metadata": {},
   "outputs": [
    {
     "data": {
      "text/html": [],
      "text/plain": [
       "<IPython.core.display.HTML object>"
      ]
     },
     "metadata": {},
     "output_type": "display_data"
    },
    {
     "data": {
      "image/png": "[encoded data removed]",
      "text/plain": [
       "<Figure size 432x288 with 1 Axes>"
      ]
     },
     "metadata": {
      "needs_background": "light"
     },
     "output_type": "display_data"
    }
   ],
   "source": [
    "learn.lr_find()"
   ]
  },
  {
   "cell_type": "code",
   "execution_count": null,
   "metadata": {},
   "outputs": [
    {
     "data": {
      "text/html": [
       "<table border=\"1\" class=\"dataframe\">\n",
       "  <thead>\n",
       "    <tr style=\"text-align: left;\">\n",
       "      <th>epoch</th>\n",
       "      <th>train_loss</th>\n",
       "      <th>valid_loss</th>\n",
       "      <th>accuracy1</th>\n",
       "      <th>time</th>\n",
       "    </tr>\n",
       "  </thead>\n",
       "  <tbody>\n",
       "    <tr>\n",
       "      <td>0</td>\n",
       "      <td>1.704890</td>\n",
       "      <td>1.495839</td>\n",
       "      <td>0.598833</td>\n",
       "      <td>05:01</td>\n",
       "    </tr>\n",
       "    <tr>\n",
       "      <td>1</td>\n",
       "      <td>1.640267</td>\n",
       "      <td>1.365731</td>\n",
       "      <td>0.663000</td>\n",
       "      <td>06:44</td>\n",
       "    </tr>\n",
       "    <tr>\n",
       "      <td>2</td>\n",
       "      <td>1.566960</td>\n",
       "      <td>1.294627</td>\n",
       "      <td>0.694000</td>\n",
       "      <td>06:36</td>\n",
       "    </tr>\n",
       "  </tbody>\n",
       "</table>"
      ],
      "text/plain": [
       "<IPython.core.display.HTML object>"
      ]
     },
     "metadata": {},
     "output_type": "display_data"
    }
   ],
   "source": [
    "learn.fit_one_cycle(3, lr_max=10e-3)"
   ]
  },
  {
   "cell_type": "markdown",
   "metadata": {},
   "source": [
    "# Fast.ai model"
   ]
  },
  {
   "cell_type": "code",
   "execution_count": null,
   "metadata": {},
   "outputs": [],
   "source": [
    "model = Conv([64, 128, 64, 32],10)"
   ]
  },
  {
   "cell_type": "code",
   "execution_count": null,
   "metadata": {},
   "outputs": [],
   "source": [
    "learn = Learner(dbunch, model , loss_func=LabelSmoothingCrossEntropy(), metrics=[accuracy1], cb_funcs =[MixUp] ).to_fp16()"
   ]
  },
  {
   "cell_type": "code",
   "execution_count": null,
   "metadata": {},
   "outputs": [
    {
     "data": {
      "text/html": [],
      "text/plain": [
       "<IPython.core.display.HTML object>"
      ]
     },
     "metadata": {},
     "output_type": "display_data"
    },
    {
     "data": {
      "image/png": "[encoded data removed]",
      "text/plain": [
       "<Figure size 432x288 with 1 Axes>"
      ]
     },
     "metadata": {
      "needs_background": "light"
     },
     "output_type": "display_data"
    }
   ],
   "source": [
    "learn.lr_find()"
   ]
  },
  {
   "cell_type": "code",
   "execution_count": null,
   "metadata": {},
   "outputs": [
    {
     "data": {
      "text/html": [
       "<table border=\"1\" class=\"dataframe\">\n",
       "  <thead>\n",
       "    <tr style=\"text-align: left;\">\n",
       "      <th>epoch</th>\n",
       "      <th>train_loss</th>\n",
       "      <th>valid_loss</th>\n",
       "      <th>accuracy1</th>\n",
       "      <th>time</th>\n",
       "    </tr>\n",
       "  </thead>\n",
       "  <tbody>\n",
       "    <tr>\n",
       "      <td>0</td>\n",
       "      <td>1.847050</td>\n",
       "      <td>1.627134</td>\n",
       "      <td>0.485833</td>\n",
       "      <td>05:17</td>\n",
       "    </tr>\n",
       "    <tr>\n",
       "      <td>1</td>\n",
       "      <td>1.632174</td>\n",
       "      <td>1.377290</td>\n",
       "      <td>0.611833</td>\n",
       "      <td>05:01</td>\n",
       "    </tr>\n",
       "    <tr>\n",
       "      <td>2</td>\n",
       "      <td>1.579423</td>\n",
       "      <td>1.273897</td>\n",
       "      <td>0.673167</td>\n",
       "      <td>05:06</td>\n",
       "    </tr>\n",
       "  </tbody>\n",
       "</table>"
      ],
      "text/plain": [
       "<IPython.core.display.HTML object>"
      ]
     },
     "metadata": {},
     "output_type": "display_data"
    }
   ],
   "source": [
    "learn.fit_one_cycle(3, lr_max=10e-3 )"
   ]
  },
  {
   "cell_type": "markdown",
   "metadata": {},
   "source": [
    "# ResNet"
   ]
  },
  {
   "cell_type": "code",
   "execution_count": null,
   "metadata": {},
   "outputs": [],
   "source": [
    "model = ResNet2(BasicBlock, [2, 2, 2, 2])"
   ]
  },
  {
   "cell_type": "code",
   "execution_count": null,
   "metadata": {},
   "outputs": [
    {
     "data": {
      "text/plain": [
       "ResNet2(\n",
       "  (conv1): Conv2d(3, 64, kernel_size=(7, 7), stride=(2, 2), padding=(3, 3), bias=False)\n",
       "  (bn1): BatchNorm2d(64, eps=1e-05, momentum=0.1, affine=True, track_running_stats=True)\n",
       "  (relu): ReLU(inplace=True)\n",
       "  (maxpool): MaxPool2d(kernel_size=3, stride=2, padding=1, dilation=1, ceil_mode=False)\n",
       "  (layer1): Sequential(\n",
       "    (0): BasicBlock(\n",
       "      (conv1): Conv2d(64, 64, kernel_size=(3, 3), stride=(1, 1), padding=(1, 1), bias=False)\n",
       "      (bn1): BatchNorm2d(64, eps=1e-05, momentum=0.1, affine=True, track_running_stats=True)\n",
       "      (relu): ReLU(inplace=True)\n",
       "      (conv2): Conv2d(64, 64, kernel_size=(3, 3), stride=(1, 1), padding=(1, 1), bias=False)\n",
       "      (bn2): BatchNorm2d(64, eps=1e-05, momentum=0.1, affine=True, track_running_stats=True)\n",
       "    )\n",
       "    (1): BasicBlock(\n",
       "      (conv1): Conv2d(64, 64, kernel_size=(3, 3), stride=(1, 1), padding=(1, 1), bias=False)\n",
       "      (bn1): BatchNorm2d(64, eps=1e-05, momentum=0.1, affine=True, track_running_stats=True)\n",
       "      (relu): ReLU(inplace=True)\n",
       "      (conv2): Conv2d(64, 64, kernel_size=(3, 3), stride=(1, 1), padding=(1, 1), bias=False)\n",
       "      (bn2): BatchNorm2d(64, eps=1e-05, momentum=0.1, affine=True, track_running_stats=True)\n",
       "    )\n",
       "  )\n",
       "  (layer2): Sequential(\n",
       "    (0): BasicBlock(\n",
       "      (conv1): Conv2d(64, 128, kernel_size=(3, 3), stride=(2, 2), padding=(1, 1), bias=False)\n",
       "      (bn1): BatchNorm2d(128, eps=1e-05, momentum=0.1, affine=True, track_running_stats=True)\n",
       "      (relu): ReLU(inplace=True)\n",
       "      (conv2): Conv2d(128, 128, kernel_size=(3, 3), stride=(1, 1), padding=(1, 1), bias=False)\n",
       "      (bn2): BatchNorm2d(128, eps=1e-05, momentum=0.1, affine=True, track_running_stats=True)\n",
       "      (downsample): Sequential(\n",
       "        (0): Conv2d(64, 128, kernel_size=(1, 1), stride=(2, 2), bias=False)\n",
       "        (1): BatchNorm2d(128, eps=1e-05, momentum=0.1, affine=True, track_running_stats=True)\n",
       "      )\n",
       "    )\n",
       "    (1): BasicBlock(\n",
       "      (conv1): Conv2d(128, 128, kernel_size=(3, 3), stride=(1, 1), padding=(1, 1), bias=False)\n",
       "      (bn1): BatchNorm2d(128, eps=1e-05, momentum=0.1, affine=True, track_running_stats=True)\n",
       "      (relu): ReLU(inplace=True)\n",
       "      (conv2): Conv2d(128, 128, kernel_size=(3, 3), stride=(1, 1), padding=(1, 1), bias=False)\n",
       "      (bn2): BatchNorm2d(128, eps=1e-05, momentum=0.1, affine=True, track_running_stats=True)\n",
       "    )\n",
       "  )\n",
       "  (layer3): Sequential(\n",
       "    (0): BasicBlock(\n",
       "      (conv1): Conv2d(128, 256, kernel_size=(3, 3), stride=(2, 2), padding=(1, 1), bias=False)\n",
       "      (bn1): BatchNorm2d(256, eps=1e-05, momentum=0.1, affine=True, track_running_stats=True)\n",
       "      (relu): ReLU(inplace=True)\n",
       "      (conv2): Conv2d(256, 256, kernel_size=(3, 3), stride=(1, 1), padding=(1, 1), bias=False)\n",
       "      (bn2): BatchNorm2d(256, eps=1e-05, momentum=0.1, affine=True, track_running_stats=True)\n",
       "      (downsample): Sequential(\n",
       "        (0): Conv2d(128, 256, kernel_size=(1, 1), stride=(2, 2), bias=False)\n",
       "        (1): BatchNorm2d(256, eps=1e-05, momentum=0.1, affine=True, track_running_stats=True)\n",
       "      )\n",
       "    )\n",
       "    (1): BasicBlock(\n",
       "      (conv1): Conv2d(256, 256, kernel_size=(3, 3), stride=(1, 1), padding=(1, 1), bias=False)\n",
       "      (bn1): BatchNorm2d(256, eps=1e-05, momentum=0.1, affine=True, track_running_stats=True)\n",
       "      (relu): ReLU(inplace=True)\n",
       "      (conv2): Conv2d(256, 256, kernel_size=(3, 3), stride=(1, 1), padding=(1, 1), bias=False)\n",
       "      (bn2): BatchNorm2d(256, eps=1e-05, momentum=0.1, affine=True, track_running_stats=True)\n",
       "    )\n",
       "  )\n",
       "  (layer4): Sequential(\n",
       "    (0): BasicBlock(\n",
       "      (conv1): Conv2d(256, 512, kernel_size=(3, 3), stride=(2, 2), padding=(1, 1), bias=False)\n",
       "      (bn1): BatchNorm2d(512, eps=1e-05, momentum=0.1, affine=True, track_running_stats=True)\n",
       "      (relu): ReLU(inplace=True)\n",
       "      (conv2): Conv2d(512, 512, kernel_size=(3, 3), stride=(1, 1), padding=(1, 1), bias=False)\n",
       "      (bn2): BatchNorm2d(512, eps=1e-05, momentum=0.1, affine=True, track_running_stats=True)\n",
       "      (downsample): Sequential(\n",
       "        (0): Conv2d(256, 512, kernel_size=(1, 1), stride=(2, 2), bias=False)\n",
       "        (1): BatchNorm2d(512, eps=1e-05, momentum=0.1, affine=True, track_running_stats=True)\n",
       "      )\n",
       "    )\n",
       "    (1): BasicBlock(\n",
       "      (conv1): Conv2d(512, 512, kernel_size=(3, 3), stride=(1, 1), padding=(1, 1), bias=False)\n",
       "      (bn1): BatchNorm2d(512, eps=1e-05, momentum=0.1, affine=True, track_running_stats=True)\n",
       "      (relu): ReLU(inplace=True)\n",
       "      (conv2): Conv2d(512, 512, kernel_size=(3, 3), stride=(1, 1), padding=(1, 1), bias=False)\n",
       "      (bn2): BatchNorm2d(512, eps=1e-05, momentum=0.1, affine=True, track_running_stats=True)\n",
       "    )\n",
       "  )\n",
       "  (avgpool): AdaptiveAvgPool2d(output_size=1)\n",
       "  (fc): Linear(in_features=512, out_features=10, bias=True)\n",
       ")"
      ]
     },
     "execution_count": null,
     "metadata": {},
     "output_type": "execute_result"
    }
   ],
   "source": [
    "model"
   ]
  },
  {
   "cell_type": "code",
   "execution_count": null,
   "metadata": {},
   "outputs": [],
   "source": [
    "learn = Learner(dbunch, model , loss_func=LabelSmoothingCrossEntropy(), metrics=[accuracy1], cb_funcs =[MixUp] ).to_fp16()"
   ]
  },
  {
   "cell_type": "code",
   "execution_count": null,
   "metadata": {},
   "outputs": [
    {
     "data": {
      "text/html": [],
      "text/plain": [
       "<IPython.core.display.HTML object>"
      ]
     },
     "metadata": {},
     "output_type": "display_data"
    },
    {
     "data": {
      "image/png": "[encoded data removed]",
      "text/plain": [
       "<Figure size 432x288 with 1 Axes>"
      ]
     },
     "metadata": {
      "needs_background": "light"
     },
     "output_type": "display_data"
    }
   ],
   "source": [
    "learn.lr_find()"
   ]
  },
  {
   "cell_type": "code",
   "execution_count": null,
   "metadata": {},
   "outputs": [
    {
     "data": {
      "text/html": [
       "<table border=\"1\" class=\"dataframe\">\n",
       "  <thead>\n",
       "    <tr style=\"text-align: left;\">\n",
       "      <th>epoch</th>\n",
       "      <th>train_loss</th>\n",
       "      <th>valid_loss</th>\n",
       "      <th>accuracy1</th>\n",
       "      <th>time</th>\n",
       "    </tr>\n",
       "  </thead>\n",
       "  <tbody>\n",
       "    <tr>\n",
       "      <td>0</td>\n",
       "      <td>1.929051</td>\n",
       "      <td>1.731928</td>\n",
       "      <td>0.419333</td>\n",
       "      <td>07:08</td>\n",
       "    </tr>\n",
       "    <tr>\n",
       "      <td>1</td>\n",
       "      <td>1.702185</td>\n",
       "      <td>1.458189</td>\n",
       "      <td>0.580667</td>\n",
       "      <td>06:42</td>\n",
       "    </tr>\n",
       "    <tr>\n",
       "      <td>2</td>\n",
       "      <td>1.519251</td>\n",
       "      <td>1.283408</td>\n",
       "      <td>0.653250</td>\n",
       "      <td>07:14</td>\n",
       "    </tr>\n",
       "  </tbody>\n",
       "</table>"
      ],
      "text/plain": [
       "<IPython.core.display.HTML object>"
      ]
     },
     "metadata": {},
     "output_type": "display_data"
    }
   ],
   "source": [
    "learn.fit_one_cycle(3, lr_max=10e-3)"
   ]
  },
  {
   "cell_type": "code",
   "execution_count": null,
   "metadata": {},
   "outputs": [
    {
     "data": {
      "text/plain": [
       "ResNet2 (Input shape: ['16 x 3 x 32 x 32'])\n",
       "================================================================\n",
       "Layer (type)         Output Shape         Param #    Trainable \n",
       "================================================================\n",
       "Conv2d               16 x 64 x 16 x 16    9,408      True      \n",
       "________________________________________________________________\n",
       "BatchNorm2d          16 x 64 x 16 x 16    128        True      \n",
       "________________________________________________________________\n",
       "ReLU                 16 x 64 x 16 x 16    0          False     \n",
       "________________________________________________________________\n",
       "MaxPool2d            16 x 64 x 8 x 8      0          False     \n",
       "________________________________________________________________\n",
       "Conv2d               16 x 64 x 8 x 8      36,864     True      \n",
       "________________________________________________________________\n",
       "BatchNorm2d          16 x 64 x 8 x 8      128        True      \n",
       "________________________________________________________________\n",
       "ReLU                 16 x 64 x 8 x 8      0          False     \n",
       "________________________________________________________________\n",
       "Conv2d               16 x 64 x 8 x 8      36,864     True      \n",
       "________________________________________________________________\n",
       "BatchNorm2d          16 x 64 x 8 x 8      128        True      \n",
       "________________________________________________________________\n",
       "Conv2d               16 x 64 x 8 x 8      36,864     True      \n",
       "________________________________________________________________\n",
       "BatchNorm2d          16 x 64 x 8 x 8      128        True      \n",
       "________________________________________________________________\n",
       "ReLU                 16 x 64 x 8 x 8      0          False     \n",
       "________________________________________________________________\n",
       "Conv2d               16 x 64 x 8 x 8      36,864     True      \n",
       "________________________________________________________________\n",
       "BatchNorm2d          16 x 64 x 8 x 8      128        True      \n",
       "________________________________________________________________\n",
       "Conv2d               16 x 128 x 4 x 4     73,728     True      \n",
       "________________________________________________________________\n",
       "BatchNorm2d          16 x 128 x 4 x 4     256        True      \n",
       "________________________________________________________________\n",
       "ReLU                 16 x 128 x 4 x 4     0          False     \n",
       "________________________________________________________________\n",
       "Conv2d               16 x 128 x 4 x 4     147,456    True      \n",
       "________________________________________________________________\n",
       "BatchNorm2d          16 x 128 x 4 x 4     256        True      \n",
       "________________________________________________________________\n",
       "Conv2d               16 x 128 x 4 x 4     8,192      True      \n",
       "________________________________________________________________\n",
       "BatchNorm2d          16 x 128 x 4 x 4     256        True      \n",
       "________________________________________________________________\n",
       "Conv2d               16 x 128 x 4 x 4     147,456    True      \n",
       "________________________________________________________________\n",
       "BatchNorm2d          16 x 128 x 4 x 4     256        True      \n",
       "________________________________________________________________\n",
       "ReLU                 16 x 128 x 4 x 4     0          False     \n",
       "________________________________________________________________\n",
       "Conv2d               16 x 128 x 4 x 4     147,456    True      \n",
       "________________________________________________________________\n",
       "BatchNorm2d          16 x 128 x 4 x 4     256        True      \n",
       "________________________________________________________________\n",
       "Conv2d               16 x 256 x 2 x 2     294,912    True      \n",
       "________________________________________________________________\n",
       "BatchNorm2d          16 x 256 x 2 x 2     512        True      \n",
       "________________________________________________________________\n",
       "ReLU                 16 x 256 x 2 x 2     0          False     \n",
       "________________________________________________________________\n",
       "Conv2d               16 x 256 x 2 x 2     589,824    True      \n",
       "________________________________________________________________\n",
       "BatchNorm2d          16 x 256 x 2 x 2     512        True      \n",
       "________________________________________________________________\n",
       "Conv2d               16 x 256 x 2 x 2     32,768     True      \n",
       "________________________________________________________________\n",
       "BatchNorm2d          16 x 256 x 2 x 2     512        True      \n",
       "________________________________________________________________\n",
       "Conv2d               16 x 256 x 2 x 2     589,824    True      \n",
       "________________________________________________________________\n",
       "BatchNorm2d          16 x 256 x 2 x 2     512        True      \n",
       "________________________________________________________________\n",
       "ReLU                 16 x 256 x 2 x 2     0          False     \n",
       "________________________________________________________________\n",
       "Conv2d               16 x 256 x 2 x 2     589,824    True      \n",
       "________________________________________________________________\n",
       "BatchNorm2d          16 x 256 x 2 x 2     512        True      \n",
       "________________________________________________________________\n",
       "Conv2d               16 x 512 x 1 x 1     1,179,648  True      \n",
       "________________________________________________________________\n",
       "BatchNorm2d          16 x 512 x 1 x 1     1,024      True      \n",
       "________________________________________________________________\n",
       "ReLU                 16 x 512 x 1 x 1     0          False     \n",
       "________________________________________________________________\n",
       "Conv2d               16 x 512 x 1 x 1     2,359,296  True      \n",
       "________________________________________________________________\n",
       "BatchNorm2d          16 x 512 x 1 x 1     1,024      True      \n",
       "________________________________________________________________\n",
       "Conv2d               16 x 512 x 1 x 1     131,072    True      \n",
       "________________________________________________________________\n",
       "BatchNorm2d          16 x 512 x 1 x 1     1,024      True      \n",
       "________________________________________________________________\n",
       "Conv2d               16 x 512 x 1 x 1     2,359,296  True      \n",
       "________________________________________________________________\n",
       "BatchNorm2d          16 x 512 x 1 x 1     1,024      True      \n",
       "________________________________________________________________\n",
       "ReLU                 16 x 512 x 1 x 1     0          False     \n",
       "________________________________________________________________\n",
       "Conv2d               16 x 512 x 1 x 1     2,359,296  True      \n",
       "________________________________________________________________\n",
       "BatchNorm2d          16 x 512 x 1 x 1     1,024      True      \n",
       "________________________________________________________________\n",
       "AdaptiveAvgPool2d    16 x 512 x 1 x 1     0          False     \n",
       "________________________________________________________________\n",
       "Linear               16 x 10              5,130      True      \n",
       "________________________________________________________________\n",
       "\n",
       "Total params: 11,181,642\n",
       "Total trainable params: 11,181,642\n",
       "Total non-trainable params: 0\n",
       "\n",
       "Optimizer used: <function Adam at 0x000001CF87983EA0>\n",
       "Loss function: LabelSmoothingCrossEntropy()\n",
       "\n",
       "Model unfrozen\n",
       "\n",
       "Callbacks:\n",
       "  - MixUp\n",
       "  - ModelToHalf\n",
       "  - TrainEvalCallback\n",
       "  - Recorder\n",
       "  - ProgressCallback\n",
       "  - MixedPrecision"
      ]
     },
     "execution_count": null,
     "metadata": {},
     "output_type": "execute_result"
    }
   ],
   "source": [
    "learn.summary()"
   ]
  },
  {
   "cell_type": "markdown",
   "metadata": {},
   "source": [
    "# Learner"
   ]
  },
  {
   "cell_type": "code",
   "execution_count": null,
   "metadata": {},
   "outputs": [
    {
     "data": {
      "text/plain": [
       "'torch.cuda.FloatTensor'"
      ]
     },
     "execution_count": null,
     "metadata": {},
     "output_type": "execute_result"
    }
   ],
   "source": [
    "xb, yb = dbunch.one_batch()\n",
    "xb.type()"
   ]
  },
  {
   "cell_type": "code",
   "execution_count": null,
   "metadata": {},
   "outputs": [
    {
     "name": "stderr",
     "output_type": "stream",
     "text": [
      "C:\\Users\\t158185\\Documents\\GitHub\\dl-notebooks\\dlnotebooks\\models\\simplecnn.py:45: UserWarning: Implicit dimension choice for log_softmax has been deprecated. Change the call to include dim=X as an argument.\n",
      "  return F.log_softmax(x)\n"
     ]
    }
   ],
   "source": [
    "model = SimpleCNN().cuda()\n",
    "score =model(xb)"
   ]
  },
  {
   "cell_type": "code",
   "execution_count": null,
   "metadata": {},
   "outputs": [
    {
     "data": {
      "text/plain": [
       "torch.Size([16, 10])"
      ]
     },
     "execution_count": null,
     "metadata": {},
     "output_type": "execute_result"
    }
   ],
   "source": [
    "score.shape"
   ]
  },
  {
   "cell_type": "code",
   "execution_count": null,
   "metadata": {},
   "outputs": [],
   "source": [
    "def accuracy1(inp, targ, axis=-1):\n",
    "    \"Compute accuracy with `targ` when `pred` is bs * n_classes\"\n",
    "    pred,targ = flatten_check(inp.argmax(dim=axis), targ)\n",
    "    return (pred.int() == targ).float().mean()"
   ]
  },
  {
   "cell_type": "code",
   "execution_count": null,
   "metadata": {},
   "outputs": [],
   "source": [
    "learn = Learner(dbunch, model , loss_func=LabelSmoothingCrossEntropy(), metrics=[accuracy1], cb_funcs =[MixUp] ).to_fp16()"
   ]
  },
  {
   "cell_type": "code",
   "execution_count": null,
   "metadata": {},
   "outputs": [
    {
     "data": {
      "text/html": [],
      "text/plain": [
       "<IPython.core.display.HTML object>"
      ]
     },
     "metadata": {},
     "output_type": "display_data"
    },
    {
     "data": {
      "image/png": "[encoded data removed]",
      "text/plain": [
       "<Figure size 432x288 with 1 Axes>"
      ]
     },
     "metadata": {
      "needs_background": "light"
     },
     "output_type": "display_data"
    }
   ],
   "source": [
    "learn.lr_find()"
   ]
  },
  {
   "cell_type": "code",
   "execution_count": null,
   "metadata": {},
   "outputs": [
    {
     "data": {
      "text/html": [
       "<table border=\"1\" class=\"dataframe\">\n",
       "  <thead>\n",
       "    <tr style=\"text-align: left;\">\n",
       "      <th>epoch</th>\n",
       "      <th>train_loss</th>\n",
       "      <th>valid_loss</th>\n",
       "      <th>accuracy1</th>\n",
       "      <th>time</th>\n",
       "    </tr>\n",
       "  </thead>\n",
       "  <tbody>\n",
       "    <tr>\n",
       "      <td>0</td>\n",
       "      <td>2.302579</td>\n",
       "      <td>2.302577</td>\n",
       "      <td>0.100583</td>\n",
       "      <td>04:32</td>\n",
       "    </tr>\n",
       "    <tr>\n",
       "      <td>1</td>\n",
       "      <td>2.302579</td>\n",
       "      <td>2.302577</td>\n",
       "      <td>0.100583</td>\n",
       "      <td>04:32</td>\n",
       "    </tr>\n",
       "    <tr>\n",
       "      <td>2</td>\n",
       "      <td>2.302579</td>\n",
       "      <td>2.302577</td>\n",
       "      <td>0.100583</td>\n",
       "      <td>04:29</td>\n",
       "    </tr>\n",
       "  </tbody>\n",
       "</table>"
      ],
      "text/plain": [
       "<IPython.core.display.HTML object>"
      ]
     },
     "metadata": {},
     "output_type": "display_data"
    }
   ],
   "source": [
    "learn.fit_one_cycle(3, lr_max=10e-2 )"
   ]
  },
  {
   "cell_type": "code",
   "execution_count": null,
   "metadata": {},
   "outputs": [
    {
     "data": {
      "image/png": "[encoded data removed]",
      "text/plain": [
       "<Figure size 864x288 with 2 Axes>"
      ]
     },
     "metadata": {
      "needs_background": "light"
     },
     "output_type": "display_data"
    }
   ],
   "source": [
    "learn.recorder.plot_sched()"
   ]
  },
  {
   "cell_type": "markdown",
   "metadata": {},
   "source": [
    "# Looking inside the model"
   ]
  },
  {
   "cell_type": "markdown",
   "metadata": {},
   "source": [
    "Lets see the impact of hooks"
   ]
  },
  {
   "cell_type": "code",
   "execution_count": null,
   "metadata": {},
   "outputs": [
    {
     "data": {
      "image/png": "[encoded data removed]",
      "text/plain": [
       "<Figure size 432x288 with 1 Axes>"
      ]
     },
     "metadata": {
      "needs_background": "light"
     },
     "output_type": "display_data"
    }
   ],
   "source": [
    "import numpy as np\n",
    "import matplotlib.pyplot as plt\n",
    "bins = np.array([i for i in range(-1,10)]).astype(float)\n",
    "counts = hist.numpy().astype(float)\n",
    "centroids = (bins[1:] + bins[:-1]) / 2\n",
    "counts_, bins_, _ = plt.hist(centroids, bins=len(counts),\n",
    "                             weights=counts, range=(min(bins), max(bins)))\n",
    "plt.show()\n",
    "assert np.allclose(bins_, bins)\n",
    "assert np.allclose(counts_, counts)"
   ]
  },
  {
   "cell_type": "code",
   "execution_count": null,
   "metadata": {},
   "outputs": [],
   "source": [
    "learn = Learner(dbunch, model , loss_func=LabelSmoothingCrossEntropy(), metrics=[accuracy1], cb_funcs =[MixUp], cbs=[ActivationStats(with_hist=True)] ).to_fp16()"
   ]
  },
  {
   "cell_type": "code",
   "execution_count": null,
   "metadata": {},
   "outputs": [
    {
     "data": {
      "text/html": [
       "<table border=\"1\" class=\"dataframe\">\n",
       "  <thead>\n",
       "    <tr style=\"text-align: left;\">\n",
       "      <th>epoch</th>\n",
       "      <th>train_loss</th>\n",
       "      <th>valid_loss</th>\n",
       "      <th>accuracy1</th>\n",
       "      <th>time</th>\n",
       "    </tr>\n",
       "  </thead>\n",
       "  <tbody>\n",
       "    <tr>\n",
       "      <td>0</td>\n",
       "      <td>1.525807</td>\n",
       "      <td>1.151352</td>\n",
       "      <td>0.719917</td>\n",
       "      <td>10:17</td>\n",
       "    </tr>\n",
       "  </tbody>\n",
       "</table>"
      ],
      "text/plain": [
       "<IPython.core.display.HTML object>"
      ]
     },
     "metadata": {},
     "output_type": "display_data"
    }
   ],
   "source": [
    "learn.fit_one_cycle(1,lr_max=10e-3)"
   ]
  },
  {
   "cell_type": "code",
   "execution_count": null,
   "metadata": {},
   "outputs": [
    {
     "data": {
      "text/plain": [
       "(#9000) [(#8) [{'mean': -2.106740713119507, 'std': 2.659578800201416, 'percent_null': 0.8172848183391004, 'hist': tensor([1.5900e+03, 2.5300e+03, 4.4400e+03, 6.4710e+03, 6.7350e+03, 4.4610e+03,\n",
       "        2.8320e+03, 1.7450e+03, 1.1220e+03, 7.1500e+02, 4.5000e+02, 3.6400e+02,\n",
       "        2.3800e+02, 1.2000e+02, 6.4000e+01, 9.4000e+01, 3.8000e+01, 4.0000e+01,\n",
       "        2.3000e+01, 2.0000e+00, 7.0000e+00, 2.0000e+00, 2.0000e+00, 0.0000e+00,\n",
       "        1.0000e+00, 0.0000e+00, 0.0000e+00, 0.0000e+00, 0.0000e+00, 0.0000e+00,\n",
       "        0.0000e+00, 0.0000e+00, 0.0000e+00, 0.0000e+00, 0.0000e+00, 0.0000e+00,\n",
       "        0.0000e+00, 0.0000e+00, 0.0000e+00, 0.0000e+00])},{'mean': -0.39247849583625793, 'std': 3.9204347133636475, 'percent_null': 0.6296226211072664, 'hist': tensor([19793., 13676.,  9880.,  6937.,  5262.,  4196.,  3432.,  2934.,  2633.,\n",
       "         2670.,  2424.,  2556.,  2610.,  2826.,  2975.,  2992.,  3098.,  3261.,\n",
       "         3439.,  3631.,  3623.,  3681.,  3828.,  3750.,  3589.,  3186.,  2599.,\n",
       "         2254.,  2084.,  1738.,  1458.,  1332.,  1067.,   888.,   711.,   572.,\n",
       "          488.,   408.,   383.,   341.])},{'mean': 0.03236570209264755, 'std': 1.2239054441452026, 'percent_null': 0.5258488321799308, 'hist': tensor([4.1090e+04, 3.3454e+04, 2.8308e+04, 2.1657e+04, 1.5461e+04, 1.1410e+04,\n",
       "        8.9610e+03, 6.0850e+03, 4.5430e+03, 3.4030e+03, 2.4690e+03, 1.9160e+03,\n",
       "        1.4210e+03, 9.9600e+02, 7.4700e+02, 8.0000e+02, 3.5100e+02, 2.7100e+02,\n",
       "        2.0900e+02, 1.6700e+02, 1.3000e+02, 9.8000e+01, 7.3000e+01, 4.9000e+01,\n",
       "        4.3000e+01, 3.5000e+01, 3.3000e+01, 3.3000e+01, 1.5000e+01, 7.0000e+00,\n",
       "        1.0000e+01, 5.0000e+00, 3.0000e+00, 5.0000e+00, 1.0000e+00, 0.0000e+00,\n",
       "        1.0000e+00, 0.0000e+00, 0.0000e+00, 0.0000e+00])},{'mean': -7.1658806800842285, 'std': 12.289933204650879, 'percent_null': 0.7385110294117647, 'hist': tensor([1483., 1462., 1445., 1438., 1459., 1370., 1363., 1323., 1289., 1222.,\n",
       "        1107., 1116., 1100., 1031., 1024.,  977.,  993.,  900.,  927.,  836.,\n",
       "         899.,  815.,  854.,  720.,  731.,  707.,  689.,  712.,  649.,  625.,\n",
       "         633.,  676.,  590.,  550.,  538.,  527.,  533.,  525.,  496.,  483.])},{'mean': -0.23503553867340088, 'std': 1.3015674352645874, 'percent_null': 0.5861807958477508, 'hist': tensor([1.6026e+04, 1.4399e+04, 1.2130e+04, 1.0122e+04, 7.9170e+03, 5.8430e+03,\n",
       "        4.1670e+03, 2.8830e+03, 1.8880e+03, 1.2940e+03, 8.3300e+02, 5.7900e+02,\n",
       "        5.1000e+02, 3.6300e+02, 2.9100e+02, 2.1000e+02, 1.4800e+02, 9.5000e+01,\n",
       "        5.9000e+01, 3.4000e+01, 3.7000e+01, 2.1000e+01, 1.1000e+01, 8.0000e+00,\n",
       "        6.0000e+00, 4.0000e+00, 4.0000e+00, 2.0000e+00, 4.0000e+00, 1.0000e+00,\n",
       "        0.0000e+00, 2.0000e+00, 0.0000e+00, 2.0000e+00, 1.0000e+00, 0.0000e+00,\n",
       "        1.0000e+00, 1.0000e+00, 0.0000e+00, 0.0000e+00])},{'mean': -13.731954574584961, 'std': 18.625577926635742, 'percent_null': 0.7816243489583333, 'hist': tensor([243., 251., 253., 270., 210., 245., 229., 229., 255., 221., 234., 201.,\n",
       "        205., 199., 198., 206., 214., 200., 177., 176., 181., 175., 191., 155.,\n",
       "        167., 179., 177., 156., 169., 161., 179., 173., 154., 157., 158., 146.,\n",
       "        161., 135., 132., 141.])},{'mean': -0.5123639702796936, 'std': 0.7183961868286133, 'percent_null': 0.802197265625, 'hist': tensor([5494., 3419., 1995., 1106.,  639.,  382.,  221.,   87.,   58.,   25.,\n",
       "           7.,    6.,    0.,    0.,    0.,    0.,    0.,    0.,    0.,    0.,\n",
       "           0.,    0.,    0.,    0.,    0.,    0.,    0.,    0.,    0.,    0.,\n",
       "           0.,    0.,    0.,    0.,    0.,    0.,    0.,    0.,    0.,    0.])},{'mean': -1.1104413270950317, 'std': 7.996047019958496, 'percent_null': 0.55078125, 'hist': tensor([16., 23., 23., 25., 31., 34., 28., 24., 37., 35., 28., 27., 25., 24.,\n",
       "        23., 34., 28., 30., 30., 28., 31., 30., 33., 27., 25., 32., 20., 23.,\n",
       "        31., 24., 31., 20., 21., 14., 15.,  9., 20., 12., 12.,  8.])}],(#8) [{'mean': -2.187682628631592, 'std': 2.890063524246216, 'percent_null': 0.8171280276816609, 'hist': tensor([1.3710e+03, 2.1570e+03, 3.6300e+03, 7.1540e+03, 6.7140e+03, 5.3370e+03,\n",
       "        2.7520e+03, 1.6480e+03, 1.1880e+03, 6.5900e+02, 5.0300e+02, 3.3700e+02,\n",
       "        2.1300e+02, 8.1000e+01, 5.0000e+01, 3.7000e+01, 5.2000e+01, 5.3000e+01,\n",
       "        3.3000e+01, 1.0000e+00, 5.9000e+01, 1.0000e+00, 1.0000e+00, 0.0000e+00,\n",
       "        1.0000e+00, 1.0000e+00, 1.0000e+00, 0.0000e+00, 0.0000e+00, 0.0000e+00,\n",
       "        0.0000e+00, 0.0000e+00, 0.0000e+00, 0.0000e+00, 0.0000e+00, 0.0000e+00,\n",
       "        0.0000e+00, 0.0000e+00, 0.0000e+00, 0.0000e+00])},{'mean': -0.40204811096191406, 'std': 3.981379747390747, 'percent_null': 0.633301794982699, 'hist': tensor([19856., 13772.,  9311.,  6638.,  4913.,  4120.,  3285.,  2751.,  2439.,\n",
       "         2225.,  2172.,  2210.,  2506.,  2891.,  3300.,  3074.,  3038.,  3143.,\n",
       "         3366.,  3528.,  3614.,  3955.,  3749.,  3675.,  3328.,  3064.,  3146.,\n",
       "         2325.,  3009.,  1837.,  1484.,  1284.,  1035.,   820.,   728.,   645.,\n",
       "          464.,   444.,   370.,   335.])},{'mean': 0.03232744708657265, 'std': 1.2240233421325684, 'percent_null': 0.5301984212802768, 'hist': tensor([4.2205e+04, 3.3983e+04, 2.7584e+04, 2.1170e+04, 1.4952e+04, 1.1083e+04,\n",
       "        8.3750e+03, 5.9330e+03, 4.5250e+03, 3.5010e+03, 2.6480e+03, 1.9640e+03,\n",
       "        1.3220e+03, 9.3300e+02, 6.4400e+02, 6.1400e+02, 6.5900e+02, 2.1200e+02,\n",
       "        1.9900e+02, 2.0900e+02, 1.3000e+02, 7.4000e+01, 5.8000e+01, 3.5000e+01,\n",
       "        6.9000e+01, 4.7000e+01, 2.3000e+01, 1.7000e+01, 1.5000e+01, 9.0000e+00,\n",
       "        3.0000e+01, 7.0000e+00, 1.0000e+01, 1.5000e+01, 6.0000e+00, 3.0000e+00,\n",
       "        5.0000e+00, 1.0000e+00, 3.0000e+00, 1.0000e+00])},{'mean': -7.014565944671631, 'std': 12.279887199401855, 'percent_null': 0.7356942041522492, 'hist': tensor([1596., 1631., 1521., 1500., 1375., 1343., 1404., 1343., 1219., 1213.,\n",
       "        1153., 1171., 1134., 1025.,  994., 1027.,  987.,  914.,  909.,  980.,\n",
       "         866.,  833.,  833.,  790.,  773.,  758.,  686.,  691.,  664.,  665.,\n",
       "         631.,  558.,  550.,  571.,  574.,  544.,  489.,  470.,  517.,  490.])},{'mean': -0.23509496450424194, 'std': 1.3016369342803955, 'percent_null': 0.5874459342560554, 'hist': tensor([1.6115e+04, 1.4689e+04, 1.2302e+04, 9.8420e+03, 7.8480e+03, 5.6720e+03,\n",
       "        3.9370e+03, 2.8500e+03, 1.7810e+03, 1.2560e+03, 8.9700e+02, 6.2900e+02,\n",
       "        4.8900e+02, 3.8500e+02, 2.8700e+02, 2.4600e+02, 1.4000e+02, 9.3000e+01,\n",
       "        4.6000e+01, 5.4000e+01, 2.9000e+01, 1.1000e+01, 2.3000e+01, 1.2000e+01,\n",
       "        9.0000e+00, 2.0000e+00, 4.0000e+00, 6.0000e+00, 1.0000e+00, 1.0000e+00,\n",
       "        1.0000e+00, 1.0000e+00, 1.0000e+00, 0.0000e+00, 0.0000e+00, 1.0000e+00,\n",
       "        0.0000e+00, 0.0000e+00, 0.0000e+00, 0.0000e+00])},{'mean': -13.55190658569336, 'std': 18.538612365722656, 'percent_null': 0.77763671875, 'hist': tensor([257., 262., 235., 242., 244., 235., 241., 241., 223., 251., 236., 214.,\n",
       "        230., 210., 194., 215., 228., 215., 199., 194., 172., 172., 178., 180.,\n",
       "        182., 171., 160., 182., 175., 149., 167., 173., 149., 152., 151., 161.,\n",
       "        160., 160., 157., 143.])},{'mean': -0.5123104453086853, 'std': 0.7183933258056641, 'percent_null': 0.8014973958333333, 'hist': tensor([5.4110e+03, 3.4940e+03, 2.0100e+03, 1.1240e+03, 6.3000e+02, 3.9900e+02,\n",
       "        2.2800e+02, 1.0100e+02, 4.4000e+01, 1.4000e+01, 3.0000e+00, 2.0000e+00,\n",
       "        0.0000e+00, 0.0000e+00, 0.0000e+00, 0.0000e+00, 0.0000e+00, 0.0000e+00,\n",
       "        0.0000e+00, 0.0000e+00, 0.0000e+00, 0.0000e+00, 0.0000e+00, 0.0000e+00,\n",
       "        0.0000e+00, 0.0000e+00, 0.0000e+00, 0.0000e+00, 0.0000e+00, 0.0000e+00,\n",
       "        0.0000e+00, 0.0000e+00, 0.0000e+00, 0.0000e+00, 0.0000e+00, 0.0000e+00,\n",
       "        0.0000e+00, 0.0000e+00, 0.0000e+00, 0.0000e+00])},{'mean': -0.8913094401359558, 'std': 7.967401504516602, 'percent_null': 0.53828125, 'hist': tensor([25., 24., 28., 22., 31., 24., 15., 31., 31., 34., 33., 30., 29., 37.,\n",
       "        25., 26., 35., 32., 30., 41., 36., 26., 29., 30., 20., 24., 26., 28.,\n",
       "        28., 27., 14., 24., 23., 18., 14., 22., 13., 11., 15.,  7.])}],(#8) [{'mean': -2.2319188117980957, 'std': 2.9114556312561035, 'percent_null': 0.8184256055363321, 'hist': tensor([1.5390e+03, 2.5620e+03, 4.1280e+03, 6.6220e+03, 6.7560e+03, 4.3480e+03,\n",
       "        2.6750e+03, 1.6360e+03, 1.1390e+03, 7.4200e+02, 5.1500e+02, 3.1600e+02,\n",
       "        2.8100e+02, 1.4300e+02, 1.1800e+02, 5.6000e+01, 4.9000e+01, 7.0000e+01,\n",
       "        5.9000e+01, 1.1000e+01, 3.6000e+01, 2.0000e+00, 4.0000e+00, 2.0000e+00,\n",
       "        2.0000e+00, 0.0000e+00, 0.0000e+00, 0.0000e+00, 0.0000e+00, 0.0000e+00,\n",
       "        0.0000e+00, 0.0000e+00, 0.0000e+00, 0.0000e+00, 0.0000e+00, 0.0000e+00,\n",
       "        0.0000e+00, 0.0000e+00, 0.0000e+00, 0.0000e+00])},{'mean': -0.38242754340171814, 'std': 3.9949357509613037, 'percent_null': 0.626759839965398, 'hist': tensor([19877., 13682.,  9828.,  7100.,  5491.,  4246.,  3635.,  2864.,  2670.,\n",
       "         2452.,  2479.,  2626.,  2865.,  3120.,  3180.,  3159.,  3030.,  3185.,\n",
       "         3557.,  3435.,  3610.,  3824.,  3696.,  3651.,  3531.,  2934.,  2591.,\n",
       "         2442.,  2033.,  1767.,  1378.,  1147.,   951.,   849.,   684.,   606.,\n",
       "          513.,   390.,   318.,   342.])},{'mean': 0.03231138736009598, 'std': 1.2240217924118042, 'percent_null': 0.5264354455017302, 'hist': tensor([4.1399e+04, 3.3740e+04, 2.7840e+04, 2.2105e+04, 1.5866e+04, 1.1626e+04,\n",
       "        8.6900e+03, 6.0570e+03, 4.4700e+03, 3.1790e+03, 2.3800e+03, 1.7670e+03,\n",
       "        1.2270e+03, 8.3700e+02, 1.0270e+03, 5.7100e+02, 3.1300e+02, 2.4200e+02,\n",
       "        2.0100e+02, 1.5500e+02, 1.1500e+02, 1.0200e+02, 6.4000e+01, 7.7000e+01,\n",
       "        4.8000e+01, 2.2000e+01, 3.7000e+01, 1.7000e+01, 4.4000e+01, 1.9000e+01,\n",
       "        6.0000e+00, 2.7000e+01, 6.0000e+00, 2.0000e+00, 2.0000e+00, 1.0000e+00,\n",
       "        1.0000e+00, 2.0000e+00, 2.0000e+00, 1.0000e+00])},{'mean': -7.070521831512451, 'std': 12.106158256530762, 'percent_null': 0.7385110294117647, 'hist': tensor([1622., 1518., 1552., 1495., 1430., 1401., 1381., 1393., 1238., 1224.,\n",
       "        1250., 1184., 1156., 1075., 1101., 1064., 1002.,  963.,  881.,  888.,\n",
       "         836.,  808.,  802.,  754.,  807.,  722.,  720.,  696.,  657.,  666.,\n",
       "         612.,  601.,  563.,  540.,  521.,  523.,  495.,  492.,  483.,  478.])},{'mean': -0.23510614037513733, 'std': 1.3016620874404907, 'percent_null': 0.5816879325259515, 'hist': tensor([1.6298e+04, 1.4969e+04, 1.2673e+04, 1.0198e+04, 8.0040e+03, 5.6720e+03,\n",
       "        3.9900e+03, 2.7230e+03, 1.7490e+03, 1.2280e+03, 8.1900e+02, 6.0000e+02,\n",
       "        4.5600e+02, 3.6700e+02, 2.7600e+02, 1.8100e+02, 1.1200e+02, 7.8000e+01,\n",
       "        6.1000e+01, 4.9000e+01, 3.6000e+01, 2.7000e+01, 2.7000e+01, 8.0000e+00,\n",
       "        7.0000e+00, 7.0000e+00, 1.0000e+00, 4.0000e+00, 3.0000e+00, 4.0000e+00,\n",
       "        1.0000e+00, 1.0000e+00, 2.0000e+00, 1.0000e+00, 0.0000e+00, 0.0000e+00,\n",
       "        0.0000e+00, 0.0000e+00, 0.0000e+00, 0.0000e+00])},{'mean': -13.672094345092773, 'std': 18.44777488708496, 'percent_null': 0.78095703125, 'hist': tensor([270., 244., 234., 239., 245., 234., 267., 266., 216., 226., 223., 216.,\n",
       "        243., 216., 194., 190., 192., 198., 184., 199., 199., 192., 180., 168.,\n",
       "        188., 181., 145., 174., 152., 155., 173., 157., 159., 130., 146., 168.,\n",
       "        164., 159., 144., 160.])},{'mean': -0.5122710466384888, 'std': 0.7184171080589294, 'percent_null': 0.8013509114583334, 'hist': tensor([5.5390e+03, 3.4410e+03, 2.0210e+03, 1.1550e+03, 6.4500e+02, 3.4700e+02,\n",
       "        2.0500e+02, 1.1300e+02, 5.9000e+01, 3.0000e+01, 3.0000e+00, 2.0000e+00,\n",
       "        0.0000e+00, 0.0000e+00, 0.0000e+00, 0.0000e+00, 0.0000e+00, 0.0000e+00,\n",
       "        0.0000e+00, 0.0000e+00, 0.0000e+00, 0.0000e+00, 0.0000e+00, 0.0000e+00,\n",
       "        0.0000e+00, 0.0000e+00, 0.0000e+00, 0.0000e+00, 0.0000e+00, 0.0000e+00,\n",
       "        0.0000e+00, 0.0000e+00, 0.0000e+00, 0.0000e+00, 0.0000e+00, 0.0000e+00,\n",
       "        0.0000e+00, 0.0000e+00, 0.0000e+00, 0.0000e+00])},{'mean': -0.8561603426933289, 'std': 7.951749801635742, 'percent_null': 0.537109375, 'hist': tensor([21., 15., 17., 16., 28., 17., 27., 33., 33., 26., 27., 38., 25., 32.,\n",
       "        35., 37., 29., 35., 35., 26., 38., 28., 26., 35., 34., 30., 30., 25.,\n",
       "        26., 23., 20., 24., 20., 24., 11., 15.,  9., 12., 17., 17.])}],(#8) [{'mean': -2.481490135192871, 'std': 3.096998929977417, 'percent_null': 0.8216154844290657, 'hist': tensor([1.6410e+03, 2.1840e+03, 3.4070e+03, 5.4790e+03, 6.4270e+03, 5.0830e+03,\n",
       "        2.9200e+03, 1.7840e+03, 1.2970e+03, 7.5900e+02, 6.4300e+02, 4.3700e+02,\n",
       "        3.3500e+02, 1.7100e+02, 1.4700e+02, 1.1700e+02, 1.0300e+02, 9.7000e+01,\n",
       "        9.0000e+01, 5.9000e+01, 7.7000e+01, 9.0000e+00, 3.0000e+00, 0.0000e+00,\n",
       "        3.0000e+00, 1.0000e+00, 2.0000e+00, 0.0000e+00, 0.0000e+00, 0.0000e+00,\n",
       "        0.0000e+00, 0.0000e+00, 0.0000e+00, 0.0000e+00, 0.0000e+00, 0.0000e+00,\n",
       "        0.0000e+00, 0.0000e+00, 0.0000e+00, 0.0000e+00])},{'mean': -0.4018808901309967, 'std': 4.252736568450928, 'percent_null': 0.6249675605536332, 'hist': tensor([19429., 13410.,  9775.,  7168.,  5325.,  4290.,  3633.,  3066.,  2755.,\n",
       "         2620.,  2473.,  2442.,  2659.,  2743.,  2847.,  2866.,  2770.,  3037.,\n",
       "         2947.,  3084.,  3113.,  3258.,  3232.,  3315.,  3364.,  3251.,  3185.,\n",
       "         2862.,  2436.,  2043.,  1686.,  1536.,  1352.,  1085.,   963.,   869.,\n",
       "          729.,   642.,   519.,   488.])},{'mean': 0.0323018915951252, 'std': 1.2240294218063354, 'percent_null': 0.5234320934256055, 'hist': tensor([4.3057e+04, 3.3986e+04, 2.8152e+04, 2.1209e+04, 1.5790e+04, 1.1428e+04,\n",
       "        8.2390e+03, 6.1980e+03, 4.5040e+03, 3.2820e+03, 2.3860e+03, 1.9040e+03,\n",
       "        1.4070e+03, 8.9000e+02, 8.8300e+02, 5.1700e+02, 3.8500e+02, 2.6100e+02,\n",
       "        1.8900e+02, 1.5100e+02, 1.4400e+02, 1.0400e+02, 8.3000e+01, 5.6000e+01,\n",
       "        6.7000e+01, 5.0000e+01, 2.8000e+01, 2.7000e+01, 2.0000e+01, 1.3000e+01,\n",
       "        1.2000e+01, 1.0000e+01, 3.0000e+00, 1.0000e+00, 3.0000e+00, 4.0000e+00,\n",
       "        4.0000e+00, 0.0000e+00, 0.0000e+00, 0.0000e+00])},{'mean': -6.89373254776001, 'std': 12.027021408081055, 'percent_null': 0.7387164792387543, 'hist': tensor([1616., 1635., 1451., 1482., 1418., 1372., 1301., 1255., 1197., 1119.,\n",
       "        1170., 1173., 1122., 1044.,  995., 1029.,  974.,  950.,  913.,  822.,\n",
       "         896.,  838.,  860.,  751.,  704.,  697.,  697.,  659.,  699.,  665.,\n",
       "         604.,  624.,  586.,  607.,  542.,  533.,  530.,  510.,  516.,  457.])},{'mean': -0.2351502925157547, 'std': 1.3016550540924072, 'percent_null': 0.5853265570934256, 'hist': tensor([1.5886e+04, 1.4587e+04, 1.2466e+04, 1.0083e+04, 8.0360e+03, 5.7550e+03,\n",
       "        4.1410e+03, 2.7770e+03, 1.8330e+03, 1.2530e+03, 8.1600e+02, 6.0200e+02,\n",
       "        4.7200e+02, 3.6200e+02, 2.9100e+02, 2.2000e+02, 1.4300e+02, 8.6000e+01,\n",
       "        5.0000e+01, 3.0000e+01, 3.0000e+01, 1.6000e+01, 1.0000e+01, 8.0000e+00,\n",
       "        1.0000e+01, 3.0000e+00, 5.0000e+00, 3.0000e+00, 4.0000e+00, 2.0000e+00,\n",
       "        3.0000e+00, 0.0000e+00, 0.0000e+00, 0.0000e+00, 2.0000e+00, 0.0000e+00,\n",
       "        1.0000e+00, 0.0000e+00, 0.0000e+00, 0.0000e+00])},{'mean': -13.521258354187012, 'std': 18.46466827392578, 'percent_null': 0.7804850260416667, 'hist': tensor([261., 278., 254., 231., 218., 202., 223., 235., 212., 231., 221., 195.,\n",
       "        195., 212., 190., 207., 201., 178., 214., 205., 201., 163., 183., 192.,\n",
       "        185., 180., 163., 176., 159., 159., 171., 163., 190., 144., 132., 124.,\n",
       "        121., 127., 154., 139.])},{'mean': -0.5121974349021912, 'std': 0.7184853553771973, 'percent_null': 0.8004231770833333, 'hist': tensor([5383., 3454., 2055., 1181.,  623.,  371.,  210.,  104.,   59.,   32.,\n",
       "           8.,    0.,    0.,    0.,    0.,    0.,    0.,    0.,    0.,    0.,\n",
       "           0.,    0.,    0.,    0.,    0.,    0.,    0.,    0.,    0.,    0.,\n",
       "           0.,    0.,    0.,    0.,    0.,    0.,    0.,    0.,    0.,    0.])},{'mean': -1.045693278312683, 'std': 7.926870822906494, 'percent_null': 0.553515625, 'hist': tensor([21., 23., 16., 23., 25., 22., 23., 22., 26., 37., 33., 28., 37., 31.,\n",
       "        24., 32., 27., 36., 25., 31., 25., 35., 32., 23., 27., 23., 26., 29.,\n",
       "        26., 17., 22., 27., 20., 23., 21., 15., 10., 17., 13., 12.])}],(#8) [{'mean': -2.4078259468078613, 'std': 2.960798978805542, 'percent_null': 0.8192311851211073, 'hist': tensor([1.5180e+03, 2.3760e+03, 3.9600e+03, 6.0340e+03, 6.5170e+03, 4.9310e+03,\n",
       "        3.0650e+03, 1.6500e+03, 1.0350e+03, 7.4200e+02, 6.6300e+02, 3.9500e+02,\n",
       "        2.4900e+02, 1.6200e+02, 1.7000e+02, 1.0500e+02, 5.6000e+01, 2.7000e+01,\n",
       "        8.0000e+00, 4.0000e+00, 1.0000e+00, 2.0000e+00, 1.0000e+00, 1.0000e+00,\n",
       "        0.0000e+00, 0.0000e+00, 0.0000e+00, 0.0000e+00, 0.0000e+00, 0.0000e+00,\n",
       "        0.0000e+00, 0.0000e+00, 0.0000e+00, 0.0000e+00, 0.0000e+00, 0.0000e+00,\n",
       "        0.0000e+00, 0.0000e+00, 0.0000e+00, 0.0000e+00])},{'mean': -0.3754110336303711, 'std': 4.02409029006958, 'percent_null': 0.6303443987889273, 'hist': tensor([20840., 13602.,  9480.,  6791.,  5057.,  4052.,  3367.,  3004.,  2682.,\n",
       "         2507.,  2371.,  2555.,  2660.,  2699.,  2829.,  2791.,  2700.,  2808.,\n",
       "         2848.,  3082.,  3424.,  3722.,  3782.,  3613.,  3499.,  3265.,  3237.,\n",
       "         2916.,  2409.,  1830.,  1533.,  1281.,  1069.,   981.,   791.,   704.,\n",
       "          576.,   503.,   441.,   408.])},{'mean': 0.032294463366270065, 'std': 1.2240231037139893, 'percent_null': 0.5278492647058823, 'hist': tensor([4.2290e+04, 3.3659e+04, 2.8014e+04, 2.1399e+04, 1.5248e+04, 1.0981e+04,\n",
       "        8.5570e+03, 5.9190e+03, 4.3730e+03, 3.3540e+03, 2.5630e+03, 2.0740e+03,\n",
       "        1.4380e+03, 8.1300e+02, 8.2000e+02, 7.8700e+02, 3.6300e+02, 2.6400e+02,\n",
       "        2.3800e+02, 1.4900e+02, 1.3700e+02, 1.0100e+02, 8.0000e+01, 5.4000e+01,\n",
       "        5.8000e+01, 4.5000e+01, 4.2000e+01, 3.1000e+01, 1.8000e+01, 1.6000e+01,\n",
       "        1.2000e+01, 1.0000e+00, 3.0000e+00, 4.0000e+00, 1.0000e+00, 0.0000e+00,\n",
       "        0.0000e+00, 0.0000e+00, 0.0000e+00, 0.0000e+00])},{'mean': -6.847010612487793, 'std': 12.215331077575684, 'percent_null': 0.7347696799307959, 'hist': tensor([1570., 1490., 1486., 1373., 1378., 1434., 1298., 1292., 1203., 1208.,\n",
       "        1201., 1126., 1135., 1161., 1016.,  950.,  950.,  902.,  892.,  847.,\n",
       "         837.,  809.,  795.,  738.,  820.,  728.,  713.,  721.,  695.,  647.,\n",
       "         652.,  639.,  596.,  572.,  581.,  549.,  522.,  531.,  503.,  457.])},{'mean': -0.23517391085624695, 'std': 1.3016561269760132, 'percent_null': 0.5868782439446367, 'hist': tensor([1.6305e+04, 1.4390e+04, 1.1996e+04, 1.0173e+04, 7.7710e+03, 5.7670e+03,\n",
       "        4.1570e+03, 2.7050e+03, 1.8530e+03, 1.3290e+03, 9.0800e+02, 6.0800e+02,\n",
       "        4.6900e+02, 3.4400e+02, 2.6400e+02, 2.1400e+02, 1.3700e+02, 9.8000e+01,\n",
       "        6.4000e+01, 4.6000e+01, 3.1000e+01, 3.0000e+01, 1.5000e+01, 1.4000e+01,\n",
       "        5.0000e+00, 4.0000e+00, 5.0000e+00, 2.0000e+00, 3.0000e+00, 1.0000e+00,\n",
       "        4.0000e+00, 2.0000e+00, 1.0000e+00, 2.0000e+00, 1.0000e+00, 0.0000e+00,\n",
       "        0.0000e+00, 0.0000e+00, 0.0000e+00, 0.0000e+00])},{'mean': -13.547141075134277, 'std': 18.631826400756836, 'percent_null': 0.7773111979166667, 'hist': tensor([261., 269., 228., 275., 242., 256., 241., 245., 228., 210., 226., 213.,\n",
       "        213., 202., 210., 228., 173., 181., 200., 204., 196., 214., 189., 164.,\n",
       "        204., 186., 169., 182., 169., 168., 166., 163., 147., 145., 166., 164.,\n",
       "        146., 131., 138., 128.])},{'mean': -0.5121400952339172, 'std': 0.7185356616973877, 'percent_null': 0.7987467447916666, 'hist': tensor([5.4710e+03, 3.4680e+03, 2.0600e+03, 1.1640e+03, 6.5400e+02, 3.9400e+02,\n",
       "        1.8000e+02, 8.1000e+01, 5.1000e+01, 2.3000e+01, 9.0000e+00, 1.0000e+00,\n",
       "        2.0000e+00, 0.0000e+00, 0.0000e+00, 0.0000e+00, 0.0000e+00, 0.0000e+00,\n",
       "        0.0000e+00, 0.0000e+00, 0.0000e+00, 0.0000e+00, 0.0000e+00, 0.0000e+00,\n",
       "        0.0000e+00, 0.0000e+00, 0.0000e+00, 0.0000e+00, 0.0000e+00, 0.0000e+00,\n",
       "        0.0000e+00, 0.0000e+00, 0.0000e+00, 0.0000e+00, 0.0000e+00, 0.0000e+00,\n",
       "        0.0000e+00, 0.0000e+00, 0.0000e+00, 0.0000e+00])},{'mean': -1.192482590675354, 'std': 8.028118133544922, 'percent_null': 0.56328125, 'hist': tensor([21., 14., 22., 18., 21., 28., 29., 16., 30., 17., 24., 28., 31., 29.,\n",
       "        27., 29., 29., 25., 24., 32., 33., 29., 34., 39., 29., 34., 30., 26.,\n",
       "        20., 25., 32., 21., 20., 12., 19., 12., 16., 16., 13., 14.])}],(#8) [{'mean': -2.2828333377838135, 'std': 2.8557469844818115, 'percent_null': 0.8173767301038062, 'hist': tensor([1.5530e+03, 2.2410e+03, 4.3870e+03, 6.2730e+03, 6.3070e+03, 4.8800e+03,\n",
       "        2.9270e+03, 1.8420e+03, 1.2470e+03, 6.7400e+02, 4.0500e+02, 3.4700e+02,\n",
       "        2.6300e+02, 1.9700e+02, 1.5000e+02, 8.6000e+01, 9.3000e+01, 8.4000e+01,\n",
       "        4.8000e+01, 2.8000e+01, 5.0000e+00, 3.0000e+00, 1.0000e+00, 0.0000e+00,\n",
       "        0.0000e+00, 0.0000e+00, 0.0000e+00, 0.0000e+00, 0.0000e+00, 0.0000e+00,\n",
       "        0.0000e+00, 0.0000e+00, 0.0000e+00, 0.0000e+00, 0.0000e+00, 0.0000e+00,\n",
       "        0.0000e+00, 0.0000e+00, 0.0000e+00, 0.0000e+00])},{'mean': -0.3996868133544922, 'std': 4.076916694641113, 'percent_null': 0.6324799956747404, 'hist': tensor([21290., 13659.,  9314.,  6617.,  4888.,  3817.,  3194.,  2659.,  2464.,\n",
       "         2192.,  2131.,  2482.,  2655.,  2814.,  2936.,  3016.,  3075.,  3186.,\n",
       "         3365.,  3340.,  3591.,  3658.,  3737.,  3608.,  3629.,  3359.,  2905.,\n",
       "         2517.,  2078.,  1737.,  1372.,  1147.,  1032.,   878.,   824.,   664.,\n",
       "          519.,   421.,   383.,   390.])},{'mean': 0.032294198870658875, 'std': 1.22400963306427, 'percent_null': 0.5257298875432526, 'hist': tensor([4.2381e+04, 3.4319e+04, 2.8118e+04, 2.1530e+04, 1.5768e+04, 1.1258e+04,\n",
       "        8.2710e+03, 5.7630e+03, 4.2730e+03, 3.2270e+03, 2.5000e+03, 1.8650e+03,\n",
       "        1.1460e+03, 8.7800e+02, 8.9600e+02, 6.1900e+02, 2.8700e+02, 2.4300e+02,\n",
       "        2.2500e+02, 1.7700e+02, 1.2300e+02, 1.0000e+02, 1.0600e+02, 6.3000e+01,\n",
       "        5.6000e+01, 4.9000e+01, 5.5000e+01, 4.6000e+01, 3.1000e+01, 2.3000e+01,\n",
       "        1.6000e+01, 1.5000e+01, 2.0000e+00, 8.0000e+00, 2.0000e+00, 1.0000e+00,\n",
       "        1.0000e+00, 1.0000e+00, 0.0000e+00, 1.0000e+00])},{'mean': -6.744291305541992, 'std': 11.936906814575195, 'percent_null': 0.7369485294117647, 'hist': tensor([1567., 1604., 1555., 1482., 1392., 1442., 1371., 1302., 1328., 1227.,\n",
       "        1185., 1145., 1054., 1068., 1071., 1026.,  980.,  928.,  931.,  840.,\n",
       "         881.,  845.,  791.,  752.,  720.,  743.,  694.,  667.,  673.,  684.,\n",
       "         642.,  623.,  580.,  533.,  566.,  511.,  533.,  472.,  476.,  463.])},{'mean': -0.23519521951675415, 'std': 1.3016512393951416, 'percent_null': 0.5831801470588235, 'hist': tensor([1.6521e+04, 1.4893e+04, 1.2603e+04, 1.0109e+04, 7.9260e+03, 5.7000e+03,\n",
       "        3.8460e+03, 2.7130e+03, 1.7340e+03, 1.2410e+03, 8.4500e+02, 6.8800e+02,\n",
       "        4.8500e+02, 3.3200e+02, 2.4100e+02, 2.1300e+02, 1.0700e+02, 8.6000e+01,\n",
       "        5.7000e+01, 4.2000e+01, 3.1000e+01, 1.8000e+01, 1.8000e+01, 1.2000e+01,\n",
       "        3.0000e+00, 6.0000e+00, 5.0000e+00, 2.0000e+00, 8.0000e+00, 3.0000e+00,\n",
       "        4.0000e+00, 1.0000e+00, 2.0000e+00, 0.0000e+00, 0.0000e+00, 0.0000e+00,\n",
       "        1.0000e+00, 0.0000e+00, 1.0000e+00, 0.0000e+00])},{'mean': -13.367640495300293, 'std': 18.308799743652344, 'percent_null': 0.778076171875, 'hist': tensor([260., 268., 238., 269., 245., 257., 259., 227., 231., 236., 239., 240.,\n",
       "        208., 195., 212., 218., 196., 186., 189., 195., 200., 194., 185., 166.,\n",
       "        194., 190., 200., 167., 152., 176., 170., 168., 143., 164., 151., 146.,\n",
       "        158., 196., 158., 111.])},{'mean': -0.5120731592178345, 'std': 0.7185957431793213, 'percent_null': 0.8014485677083333, 'hist': tensor([5.5400e+03, 3.4620e+03, 1.8940e+03, 1.0940e+03, 6.4800e+02, 3.9800e+02,\n",
       "        2.1100e+02, 1.1300e+02, 6.6000e+01, 3.3000e+01, 4.0000e+00, 1.0000e+00,\n",
       "        0.0000e+00, 1.0000e+00, 0.0000e+00, 0.0000e+00, 0.0000e+00, 0.0000e+00,\n",
       "        0.0000e+00, 0.0000e+00, 0.0000e+00, 0.0000e+00, 0.0000e+00, 0.0000e+00,\n",
       "        0.0000e+00, 0.0000e+00, 0.0000e+00, 0.0000e+00, 0.0000e+00, 0.0000e+00,\n",
       "        0.0000e+00, 0.0000e+00, 0.0000e+00, 0.0000e+00, 0.0000e+00, 0.0000e+00,\n",
       "        0.0000e+00, 0.0000e+00, 0.0000e+00, 0.0000e+00])},{'mean': -0.7445969581604004, 'std': 8.249383926391602, 'percent_null': 0.521484375, 'hist': tensor([13., 18., 21., 21., 22., 19., 30., 19., 27., 36., 26., 35., 31., 30.,\n",
       "        41., 36., 17., 27., 29., 36., 28., 33., 34., 28., 31., 28., 27., 37.,\n",
       "        37., 27., 30., 34., 23., 25., 23., 15., 21., 14., 14., 14.])}],(#8) [{'mean': -2.330307960510254, 'std': 2.930365562438965, 'percent_null': 0.8199881055363322, 'hist': tensor([1.5840e+03, 2.7910e+03, 3.9590e+03, 6.8970e+03, 6.4940e+03, 4.5820e+03,\n",
       "        2.3380e+03, 1.5470e+03, 1.0100e+03, 6.1400e+02, 3.8500e+02, 3.4600e+02,\n",
       "        1.9300e+02, 1.7100e+02, 1.7500e+02, 1.6000e+02, 1.0500e+02, 7.9000e+01,\n",
       "        8.0000e+01, 2.4000e+01, 3.0000e+00, 5.0000e+00, 1.0000e+00, 1.0000e+00,\n",
       "        0.0000e+00, 0.0000e+00, 0.0000e+00, 0.0000e+00, 0.0000e+00, 0.0000e+00,\n",
       "        0.0000e+00, 0.0000e+00, 0.0000e+00, 0.0000e+00, 0.0000e+00, 0.0000e+00,\n",
       "        0.0000e+00, 0.0000e+00, 0.0000e+00, 0.0000e+00])},{'mean': -0.3619901239871979, 'std': 3.9333338737487793, 'percent_null': 0.6283493728373702, 'hist': tensor([20615., 13493.,  9401.,  6885.,  5240.,  4142.,  3451.,  3199.,  2711.,\n",
       "         2513.,  2480.,  2546.,  2915.,  3000.,  3236.,  3066.,  3182.,  3050.,\n",
       "         3240.,  3673.,  3865.,  4184.,  4032.,  3603.,  3575.,  3175.,  3028.,\n",
       "         2403.,  1894.,  1457.,  1129.,   975.,   837.,   683.,   581.,   509.,\n",
       "          440.,   372.,   337.,   314.])},{'mean': 0.03227847069501877, 'std': 1.2239869832992554, 'percent_null': 0.5293739186851211, 'hist': tensor([4.4152e+04, 3.3289e+04, 2.7982e+04, 2.2094e+04, 1.4507e+04, 1.0215e+04,\n",
       "        8.3490e+03, 6.0760e+03, 4.4300e+03, 3.1640e+03, 2.3610e+03, 1.9970e+03,\n",
       "        1.4950e+03, 8.1000e+02, 8.0300e+02, 5.2900e+02, 3.2500e+02, 2.8000e+02,\n",
       "        2.0700e+02, 1.5000e+02, 1.3900e+02, 1.1600e+02, 7.7000e+01, 6.9000e+01,\n",
       "        5.4000e+01, 6.9000e+01, 5.0000e+01, 2.4000e+01, 1.7000e+01, 2.6000e+01,\n",
       "        1.2000e+01, 9.0000e+00, 1.1000e+01, 7.0000e+00, 4.0000e+00, 4.0000e+00,\n",
       "        4.0000e+00, 3.0000e+00, 0.0000e+00, 0.0000e+00])},{'mean': -6.698980331420898, 'std': 12.079936981201172, 'percent_null': 0.731925821799308, 'hist': tensor([1636., 1612., 1553., 1560., 1514., 1487., 1389., 1315., 1263., 1231.,\n",
       "        1260., 1189., 1058., 1111., 1146., 1018., 1007.,  938.,  946.,  923.,\n",
       "         811.,  831.,  811.,  811.,  728.,  797.,  747.,  714.,  699.,  674.,\n",
       "         701.,  650.,  586.,  542.,  534.,  498.,  525.,  489.,  489.,  422.])},{'mean': -0.23520737886428833, 'std': 1.3016490936279297, 'percent_null': 0.5791306228373703, 'hist': tensor([1.6457e+04, 1.5071e+04, 1.3054e+04, 1.0468e+04, 8.2130e+03, 5.7260e+03,\n",
       "        3.9240e+03, 2.6160e+03, 1.6290e+03, 1.1010e+03, 7.9400e+02, 5.4900e+02,\n",
       "        3.9900e+02, 3.2700e+02, 3.1300e+02, 2.2500e+02, 1.5300e+02, 8.6000e+01,\n",
       "        4.1000e+01, 4.7000e+01, 2.4000e+01, 2.0000e+01, 1.0000e+01, 5.0000e+00,\n",
       "        8.0000e+00, 4.0000e+00, 7.0000e+00, 5.0000e+00, 4.0000e+00, 1.0000e+00,\n",
       "        3.0000e+00, 0.0000e+00, 1.0000e+00, 1.0000e+00, 0.0000e+00, 1.0000e+00,\n",
       "        0.0000e+00, 0.0000e+00, 0.0000e+00, 2.0000e+00])},{'mean': -13.232243537902832, 'std': 18.077199935913086, 'percent_null': 0.7782389322916666, 'hist': tensor([245., 266., 245., 250., 247., 275., 236., 233., 219., 219., 221., 230.,\n",
       "        218., 174., 216., 191., 198., 181., 193., 211., 181., 179., 185., 189.,\n",
       "        172., 179., 170., 183., 177., 183., 177., 152., 147., 141., 133., 154.,\n",
       "        172., 148., 133., 141.])},{'mean': -0.512025773525238, 'std': 0.7186411619186401, 'percent_null': 0.8011067708333334, 'hist': tensor([5.3510e+03, 3.4360e+03, 2.0870e+03, 1.1270e+03, 6.6500e+02, 4.1400e+02,\n",
       "        1.6800e+02, 1.1200e+02, 5.3000e+01, 2.2000e+01, 1.1000e+01, 4.0000e+00,\n",
       "        0.0000e+00, 0.0000e+00, 0.0000e+00, 0.0000e+00, 0.0000e+00, 0.0000e+00,\n",
       "        0.0000e+00, 0.0000e+00, 0.0000e+00, 0.0000e+00, 0.0000e+00, 0.0000e+00,\n",
       "        0.0000e+00, 0.0000e+00, 0.0000e+00, 0.0000e+00, 0.0000e+00, 0.0000e+00,\n",
       "        0.0000e+00, 0.0000e+00, 0.0000e+00, 0.0000e+00, 0.0000e+00, 0.0000e+00,\n",
       "        0.0000e+00, 0.0000e+00, 0.0000e+00, 0.0000e+00])},{'mean': -1.0510507822036743, 'std': 8.0637788772583, 'percent_null': 0.545703125, 'hist': tensor([20., 18., 22., 21., 27., 38., 22., 27., 33., 26., 35., 32., 30., 39.,\n",
       "        34., 15., 33., 31., 32., 37., 25., 30., 31., 20., 38., 37., 20., 27.,\n",
       "        18., 24., 19., 15., 22., 20., 22., 12., 11., 16., 19., 11.])}],(#8) [{'mean': -2.094451427459717, 'std': 2.776402711868286, 'percent_null': 0.8168036332179931, 'hist': tensor([1.3930e+03, 2.2580e+03, 4.0700e+03, 7.3170e+03, 6.8250e+03, 4.6750e+03,\n",
       "        2.7730e+03, 1.5870e+03, 1.0850e+03, 5.9700e+02, 3.9600e+02, 3.1500e+02,\n",
       "        2.8700e+02, 1.5600e+02, 1.2200e+02, 5.2000e+01, 4.9000e+01, 3.4000e+01,\n",
       "        2.9000e+01, 1.9000e+01, 4.3000e+01, 1.0000e+00, 3.0000e+00, 2.0000e+00,\n",
       "        2.0000e+00, 0.0000e+00, 1.0000e+00, 0.0000e+00, 0.0000e+00, 0.0000e+00,\n",
       "        0.0000e+00, 0.0000e+00, 0.0000e+00, 0.0000e+00, 0.0000e+00, 0.0000e+00,\n",
       "        0.0000e+00, 0.0000e+00, 0.0000e+00, 0.0000e+00])},{'mean': -0.3996966779232025, 'std': 3.951482057571411, 'percent_null': 0.6299632352941177, 'hist': tensor([20570., 14543.,  9680.,  6702.,  4660.,  3735.,  3115.,  2681.,  2247.,\n",
       "         2083.,  2144.,  2300.,  2880.,  3061.,  3162.,  3201.,  3278.,  3578.,\n",
       "         3466.,  3619.,  4239.,  3857.,  3801.,  3891.,  3422.,  3140.,  2692.,\n",
       "         2447.,  2010.,  1749.,  1511.,  1262.,   944.,   765.,   624.,   559.,\n",
       "          499.,   381.,   356.,   292.])},{'mean': 0.03225299343466759, 'std': 1.2239824533462524, 'percent_null': 0.528719723183391, 'hist': tensor([4.2190e+04, 3.4441e+04, 2.7781e+04, 2.1294e+04, 1.5200e+04, 1.1252e+04,\n",
       "        7.9940e+03, 5.6590e+03, 4.4060e+03, 3.2910e+03, 2.6140e+03, 1.9290e+03,\n",
       "        1.4430e+03, 9.3600e+02, 7.2800e+02, 7.2000e+02, 3.8500e+02, 2.7100e+02,\n",
       "        2.5100e+02, 1.7600e+02, 1.0900e+02, 9.3000e+01, 9.6000e+01, 6.7000e+01,\n",
       "        4.5000e+01, 6.5000e+01, 4.2000e+01, 2.4000e+01, 2.7000e+01, 1.5000e+01,\n",
       "        1.2000e+01, 8.0000e+00, 9.0000e+00, 4.0000e+00, 5.0000e+00, 6.0000e+00,\n",
       "        3.0000e+00, 2.0000e+00, 1.0000e+00, 1.0000e+00])},{'mean': -6.951089382171631, 'std': 12.332962036132812, 'percent_null': 0.7377595155709342, 'hist': tensor([1548., 1567., 1485., 1486., 1435., 1327., 1311., 1371., 1320., 1295.,\n",
       "        1215., 1143., 1109., 1108., 1060., 1052.,  945.,  917.,  942.,  860.,\n",
       "         866.,  862.,  796.,  758.,  740.,  715.,  699.,  697.,  696.,  596.,\n",
       "         593.,  592.,  597.,  560.,  528.,  510.,  533.,  495.,  470.,  449.])},{'mean': -0.2352244257926941, 'std': 1.301645040512085, 'percent_null': 0.5823961937716263, 'hist': tensor([1.6997e+04, 1.5104e+04, 1.2667e+04, 1.0120e+04, 7.9070e+03, 5.5790e+03,\n",
       "        3.8660e+03, 2.5270e+03, 1.6820e+03, 1.1660e+03, 8.5100e+02, 5.8700e+02,\n",
       "        4.4100e+02, 3.4000e+02, 2.4700e+02, 2.0500e+02, 1.2700e+02, 7.8000e+01,\n",
       "        5.4000e+01, 6.6000e+01, 3.7000e+01, 1.5000e+01, 1.9000e+01, 6.0000e+00,\n",
       "        6.0000e+00, 6.0000e+00, 4.0000e+00, 2.0000e+00, 1.0000e+00, 1.0000e+00,\n",
       "        2.0000e+00, 3.0000e+00, 0.0000e+00, 1.0000e+00, 1.0000e+00, 0.0000e+00,\n",
       "        1.0000e+00, 1.0000e+00, 0.0000e+00, 1.0000e+00])},{'mean': -13.172786712646484, 'std': 17.93829345703125, 'percent_null': 0.77978515625, 'hist': tensor([253., 260., 238., 268., 251., 231., 212., 238., 234., 223., 211., 234.,\n",
       "        198., 225., 208., 215., 217., 201., 215., 207., 201., 218., 177., 205.,\n",
       "        181., 181., 167., 209., 161., 147., 158., 175., 169., 163., 175., 142.,\n",
       "        159., 164., 141., 147.])},{'mean': -0.5119767785072327, 'std': 0.7186779975891113, 'percent_null': 0.8032552083333333, 'hist': tensor([5.4790e+03, 3.3910e+03, 1.9710e+03, 1.0570e+03, 6.2800e+02, 3.6600e+02,\n",
       "        1.8800e+02, 1.2700e+02, 8.7000e+01, 2.5000e+01, 8.0000e+00, 2.0000e+00,\n",
       "        0.0000e+00, 0.0000e+00, 0.0000e+00, 0.0000e+00, 0.0000e+00, 0.0000e+00,\n",
       "        0.0000e+00, 0.0000e+00, 0.0000e+00, 0.0000e+00, 0.0000e+00, 0.0000e+00,\n",
       "        0.0000e+00, 0.0000e+00, 0.0000e+00, 0.0000e+00, 0.0000e+00, 0.0000e+00,\n",
       "        0.0000e+00, 0.0000e+00, 0.0000e+00, 0.0000e+00, 0.0000e+00, 0.0000e+00,\n",
       "        0.0000e+00, 0.0000e+00, 0.0000e+00, 0.0000e+00])},{'mean': -0.7148764729499817, 'std': 8.254709243774414, 'percent_null': 0.52734375, 'hist': tensor([18., 19., 18., 19., 25., 21., 29., 29., 19., 27., 20., 24., 25., 33.,\n",
       "        39., 27., 30., 32., 34., 31., 41., 42., 33., 39., 29., 25., 24., 24.,\n",
       "        24., 27., 26., 33., 19., 16., 23., 28., 15., 20.,  6., 14.])}],(#8) [{'mean': -2.1433677673339844, 'std': 2.8431308269500732, 'percent_null': 0.8192960640138408, 'hist': tensor([1.8870e+03, 2.6300e+03, 4.4390e+03, 7.1080e+03, 6.0750e+03, 4.3540e+03,\n",
       "        2.4860e+03, 1.6170e+03, 9.5600e+02, 6.9700e+02, 4.0500e+02, 3.0500e+02,\n",
       "        2.3000e+02, 1.3000e+02, 1.0200e+02, 1.1300e+02, 1.1400e+02, 6.1000e+01,\n",
       "        4.6000e+01, 1.1000e+01, 5.0000e+00, 0.0000e+00, 2.0000e+00, 0.0000e+00,\n",
       "        1.0000e+00, 0.0000e+00, 0.0000e+00, 0.0000e+00, 0.0000e+00, 0.0000e+00,\n",
       "        0.0000e+00, 0.0000e+00, 0.0000e+00, 0.0000e+00, 0.0000e+00, 0.0000e+00,\n",
       "        0.0000e+00, 0.0000e+00, 0.0000e+00, 0.0000e+00])},{'mean': -0.3629491329193115, 'std': 3.883164167404175, 'percent_null': 0.6282033953287197, 'hist': tensor([21821., 14130.,  9659.,  6822.,  5187.,  3933.,  3520.,  3123.,  2863.,\n",
       "         2626.,  2632.,  2789.,  2877.,  3033.,  3230.,  3106.,  3417.,  3415.,\n",
       "         3414.,  3531.,  3803.,  3981.,  3520.,  3102.,  2894.,  2630.,  2442.,\n",
       "         2072.,  1752.,  1393.,  1211.,  1052.,   896.,   845.,   665.,   558.,\n",
       "          497.,   446.,   372.,   333.])},{'mean': 0.03223145008087158, 'std': 1.2239820957183838, 'percent_null': 0.5259272275086505, 'hist': tensor([4.2978e+04, 3.3358e+04, 2.7537e+04, 2.1761e+04, 1.5793e+04, 1.1473e+04,\n",
       "        8.6690e+03, 6.0640e+03, 4.3290e+03, 3.2980e+03, 2.4470e+03, 1.9810e+03,\n",
       "        1.2440e+03, 8.8300e+02, 9.3400e+02, 4.3000e+02, 3.5600e+02, 2.5000e+02,\n",
       "        1.7700e+02, 1.4500e+02, 1.3700e+02, 9.1000e+01, 9.1000e+01, 6.2000e+01,\n",
       "        6.1000e+01, 3.8000e+01, 4.6000e+01, 1.7000e+01, 1.8000e+01, 1.7000e+01,\n",
       "        1.9000e+01, 2.7000e+01, 1.4000e+01, 8.0000e+00, 3.0000e+00, 2.0000e+00,\n",
       "        0.0000e+00, 1.0000e+00, 1.0000e+00, 1.0000e+00])},{'mean': -6.8447136878967285, 'std': 12.246018409729004, 'percent_null': 0.7326232698961938, 'hist': tensor([1627., 1633., 1556., 1548., 1462., 1427., 1315., 1311., 1318., 1144.,\n",
       "        1162., 1169., 1126., 1105., 1063., 1029., 1007.,  896.,  945.,  906.,\n",
       "         853.,  830.,  783.,  784.,  754.,  720.,  706.,  696.,  616.,  649.,\n",
       "         614.,  623.,  579.,  552.,  553.,  577.,  516.,  497.,  478.,  482.])},{'mean': -0.23520562052726746, 'std': 1.3016432523727417, 'percent_null': 0.5797794117647059, 'hist': tensor([1.6718e+04, 1.5146e+04, 1.2932e+04, 1.0255e+04, 7.9450e+03, 5.7350e+03,\n",
       "        3.9490e+03, 2.5190e+03, 1.6520e+03, 1.2470e+03, 7.8700e+02, 6.1800e+02,\n",
       "        4.8800e+02, 3.6500e+02, 2.6200e+02, 1.5400e+02, 1.2400e+02, 8.7000e+01,\n",
       "        6.1000e+01, 4.1000e+01, 2.8000e+01, 1.6000e+01, 1.4000e+01, 8.0000e+00,\n",
       "        1.1000e+01, 7.0000e+00, 3.0000e+00, 6.0000e+00, 3.0000e+00, 4.0000e+00,\n",
       "        1.0000e+00, 0.0000e+00, 0.0000e+00, 1.0000e+00, 2.0000e+00, 0.0000e+00,\n",
       "        0.0000e+00, 1.0000e+00, 2.0000e+00, 0.0000e+00])},{'mean': -13.296585083007812, 'std': 18.158336639404297, 'percent_null': 0.778466796875, 'hist': tensor([246., 248., 238., 250., 238., 259., 232., 235., 246., 226., 237., 232.,\n",
       "        224., 200., 215., 169., 201., 196., 178., 211., 200., 218., 193., 212.,\n",
       "        186., 161., 188., 176., 165., 161., 177., 156., 158., 171., 159., 168.,\n",
       "        134., 183., 159., 122.])},{'mean': -0.5119578242301941, 'std': 0.7186912894248962, 'percent_null': 0.8007975260416667, 'hist': tensor([5.4160e+03, 3.5120e+03, 2.0220e+03, 1.1930e+03, 6.3300e+02, 3.6400e+02,\n",
       "        1.6500e+02, 1.1000e+02, 5.9000e+01, 2.0000e+01, 4.0000e+00, 0.0000e+00,\n",
       "        0.0000e+00, 0.0000e+00, 0.0000e+00, 0.0000e+00, 0.0000e+00, 0.0000e+00,\n",
       "        0.0000e+00, 0.0000e+00, 0.0000e+00, 0.0000e+00, 0.0000e+00, 0.0000e+00,\n",
       "        0.0000e+00, 0.0000e+00, 0.0000e+00, 0.0000e+00, 0.0000e+00, 0.0000e+00,\n",
       "        0.0000e+00, 0.0000e+00, 0.0000e+00, 0.0000e+00, 0.0000e+00, 0.0000e+00,\n",
       "        0.0000e+00, 0.0000e+00, 0.0000e+00, 0.0000e+00])},{'mean': -0.8510158658027649, 'std': 7.8259453773498535, 'percent_null': 0.533984375, 'hist': tensor([15., 18., 27., 19., 27., 26., 30., 32., 34., 31., 25., 40., 35., 33.,\n",
       "        47., 36., 27., 37., 28., 36., 28., 26., 40., 38., 26., 25., 25., 26.,\n",
       "        31., 18., 21., 19., 21., 11.,  8., 13., 15., 13., 12., 10.])}],(#8) [{'mean': -2.019605875015259, 'std': 2.6717562675476074, 'percent_null': 0.8173280709342561, 'hist': tensor([1.5680e+03, 2.4340e+03, 4.9410e+03, 7.7060e+03, 6.8710e+03, 3.8190e+03,\n",
       "        2.2710e+03, 1.4780e+03, 8.8900e+02, 5.5700e+02, 3.7400e+02, 2.9400e+02,\n",
       "        2.5000e+02, 1.9300e+02, 1.7800e+02, 1.0500e+02, 4.7000e+01, 2.9000e+01,\n",
       "        2.5000e+01, 1.8000e+01, 1.9000e+01, 1.0000e+00, 2.0000e+00, 0.0000e+00,\n",
       "        2.0000e+00, 0.0000e+00, 1.0000e+00, 0.0000e+00, 0.0000e+00, 0.0000e+00,\n",
       "        0.0000e+00, 0.0000e+00, 0.0000e+00, 0.0000e+00, 0.0000e+00, 0.0000e+00,\n",
       "        0.0000e+00, 0.0000e+00, 0.0000e+00, 0.0000e+00])},{'mean': -0.3730851411819458, 'std': 3.8308680057525635, 'percent_null': 0.6275816392733564, 'hist': tensor([20505., 14315., 10082.,  6990.,  5021.,  4121.,  3389.,  2973.,  2720.,\n",
       "         2601.,  2573.,  2625.,  2916.,  3075.,  3622.,  3500.,  3583.,  3653.,\n",
       "         3975.,  4098.,  3982.,  4056.,  3674.,  3296.,  2984.,  2538.,  2276.,\n",
       "         1908.,  1504.,  1304.,  1041.,   868.,   726.,   646.,   584.,   572.,\n",
       "          458.,   402.,   373.,   326.])},{'mean': 0.03219769150018692, 'std': 1.223990559577942, 'percent_null': 0.5235267084775086, 'hist': tensor([4.4037e+04, 3.4425e+04, 2.8098e+04, 2.1099e+04, 1.5083e+04, 1.1171e+04,\n",
       "        8.6050e+03, 5.9120e+03, 4.4920e+03, 3.1880e+03, 2.4790e+03, 2.0520e+03,\n",
       "        1.2410e+03, 9.3100e+02, 6.4600e+02, 6.4300e+02, 2.9000e+02, 2.7900e+02,\n",
       "        1.8000e+02, 1.5400e+02, 1.4600e+02, 1.0200e+02, 8.8000e+01, 8.0000e+01,\n",
       "        6.8000e+01, 3.2000e+01, 2.9000e+01, 3.6000e+01, 3.5000e+01, 1.8000e+01,\n",
       "        7.0000e+00, 1.1000e+01, 6.0000e+00, 7.0000e+00, 4.0000e+00, 3.0000e+00,\n",
       "        1.0000e+00, 0.0000e+00, 0.0000e+00, 0.0000e+00])},{'mean': -7.002560138702393, 'std': 12.176682472229004, 'percent_null': 0.7353589965397924, 'hist': tensor([1623., 1565., 1533., 1468., 1426., 1411., 1383., 1292., 1283., 1203.,\n",
       "        1239., 1152., 1208., 1123., 1070., 1070., 1023., 1015.,  966.,  997.,\n",
       "         891.,  882.,  823.,  749.,  751.,  727.,  736.,  695.,  673.,  646.,\n",
       "         636.,  599.,  565.,  570.,  570.,  535.,  510.,  513.,  500.,  479.])},{'mean': -0.23519673943519592, 'std': 1.3016445636749268, 'percent_null': 0.5806985294117647, 'hist': tensor([1.6229e+04, 1.5263e+04, 1.2727e+04, 1.0254e+04, 7.9860e+03, 5.7780e+03,\n",
       "        4.0100e+03, 2.6020e+03, 1.6290e+03, 1.1700e+03, 7.9800e+02, 6.2100e+02,\n",
       "        4.5700e+02, 3.4700e+02, 2.8100e+02, 1.7900e+02, 1.9900e+02, 8.7000e+01,\n",
       "        5.6000e+01, 4.2000e+01, 2.0000e+01, 2.9000e+01, 1.2000e+01, 1.3000e+01,\n",
       "        6.0000e+00, 9.0000e+00, 4.0000e+00, 2.0000e+00, 2.0000e+00, 2.0000e+00,\n",
       "        1.0000e+00, 2.0000e+00, 0.0000e+00, 1.0000e+00, 0.0000e+00, 0.0000e+00,\n",
       "        1.0000e+00, 0.0000e+00, 0.0000e+00, 0.0000e+00])},{'mean': -13.583718299865723, 'std': 18.471769332885742, 'percent_null': 0.7810546875, 'hist': tensor([277., 221., 225., 259., 267., 241., 228., 228., 231., 217., 223., 214.,\n",
       "        231., 216., 227., 178., 222., 187., 222., 187., 181., 179., 215., 175.,\n",
       "        178., 172., 177., 151., 167., 147., 164., 138., 166., 170., 143., 154.,\n",
       "        152., 180., 139., 139.])},{'mean': -0.511936366558075, 'std': 0.7187173962593079, 'percent_null': 0.80009765625, 'hist': tensor([5.5220e+03, 3.5230e+03, 1.9860e+03, 1.0980e+03, 6.4900e+02, 3.7900e+02,\n",
       "        1.9500e+02, 1.1600e+02, 5.1000e+01, 1.8000e+01, 8.0000e+00, 3.0000e+00,\n",
       "        0.0000e+00, 0.0000e+00, 0.0000e+00, 0.0000e+00, 0.0000e+00, 0.0000e+00,\n",
       "        0.0000e+00, 0.0000e+00, 0.0000e+00, 0.0000e+00, 0.0000e+00, 0.0000e+00,\n",
       "        0.0000e+00, 0.0000e+00, 0.0000e+00, 0.0000e+00, 0.0000e+00, 0.0000e+00,\n",
       "        0.0000e+00, 0.0000e+00, 0.0000e+00, 0.0000e+00, 0.0000e+00, 0.0000e+00,\n",
       "        0.0000e+00, 0.0000e+00, 0.0000e+00, 0.0000e+00])},{'mean': -0.9326627850532532, 'std': 7.88563871383667, 'percent_null': 0.54140625, 'hist': tensor([20., 20., 26., 22., 20., 20., 21., 23., 41., 21., 23., 32., 35., 34.,\n",
       "        33., 36., 34., 33., 32., 38., 33., 31., 31., 28., 32., 23., 29., 29.,\n",
       "        18., 23., 20., 23., 25., 20., 19., 18., 17., 15., 18.,  8.])}]...]"
      ]
     },
     "execution_count": null,
     "metadata": {},
     "output_type": "execute_result"
    }
   ],
   "source": [
    "learn.activation_stats.stats"
   ]
  },
  {
   "cell_type": "code",
   "execution_count": null,
   "metadata": {},
   "outputs": [],
   "source": [
    "# debug layers \n",
    "\n",
    "tosave = defaultdict(list)\n",
    "# for each batch, get $layer output\n",
    "for i in range(len(learn.dbunch.train_dl)):\n",
    "    for j in range(len(learn.activation_stats.modules)):\n",
    "        tosave[j].append(learn.activation_stats.stats[i][j])"
   ]
  },
  {
   "cell_type": "code",
   "execution_count": null,
   "metadata": {},
   "outputs": [
    {
     "data": {
      "text/plain": [
       "8"
      ]
     },
     "execution_count": null,
     "metadata": {},
     "output_type": "execute_result"
    }
   ],
   "source": [
    "len(learn.activation_stats.modules)"
   ]
  },
  {
   "cell_type": "code",
   "execution_count": null,
   "metadata": {},
   "outputs": [
    {
     "data": {
      "image/png": "[encoded data removed]",
      "text/plain": [
       "<Figure size 432x288 with 1 Axes>"
      ]
     },
     "metadata": {
      "needs_background": "light"
     },
     "output_type": "display_data"
    }
   ],
   "source": [
    "learn.recorder.plot_loss()"
   ]
  },
  {
   "cell_type": "code",
   "execution_count": null,
   "metadata": {},
   "outputs": [
    {
     "data": {
      "image/png": "[encoded data removed]",
      "text/plain": [
       "<Figure size 432x288 with 1 Axes>"
      ]
     },
     "metadata": {
      "needs_background": "light"
     },
     "output_type": "display_data"
    }
   ],
   "source": [
    "learn.recorder.plot_loss()"
   ]
  },
  {
   "cell_type": "code",
   "execution_count": null,
   "metadata": {},
   "outputs": [
    {
     "name": "stdout",
     "output_type": "stream",
     "text": [
      "Index(['mean', 'std', 'percent_null', 'hist'], dtype='object')\n",
      "Index(['mean', 'std', 'percent_null', 'hist'], dtype='object')\n",
      "Index(['mean', 'std', 'percent_null', 'hist'], dtype='object')\n",
      "Index(['mean', 'std', 'percent_null', 'hist'], dtype='object')\n",
      "Index(['mean', 'std', 'percent_null', 'hist'], dtype='object')\n",
      "Index(['mean', 'std', 'percent_null', 'hist'], dtype='object')\n"
     ]
    },
    {
     "data": {
      "text/plain": [
       "<matplotlib.legend.Legend at 0x21473531780>"
      ]
     },
     "execution_count": null,
     "metadata": {},
     "output_type": "execute_result"
    },
    {
     "data": {
      "image/png": "[encoded data removed]",
      "text/plain": [
       "<Figure size 720x504 with 1 Axes>"
      ]
     },
     "metadata": {
      "needs_background": "light"
     },
     "output_type": "display_data"
    }
   ],
   "source": [
    "layers = range(0,6)\n",
    "ax = None\n",
    "label = []\n",
    "for l in layers:\n",
    "    if len(tosave[l]) == 0:\n",
    "        continue\n",
    "    df = pd.DataFrame(tosave[l])\n",
    "    print(df.columns)\n",
    "    ax=df['std'].plot(ax=ax,figsize=(10,7))\n",
    "    label.append(\"layer_\"+str(l))\n",
    "\n",
    "ax.legend(label, loc='upper right')"
   ]
  },
  {
   "cell_type": "code",
   "execution_count": null,
   "metadata": {},
   "outputs": [],
   "source": []
  }
 ],
 "metadata": {
  "kernelspec": {
   "display_name": "Python 3",
   "language": "python",
   "name": "python3"
  }
 },
 "nbformat": 4,
 "nbformat_minor": 2
}
