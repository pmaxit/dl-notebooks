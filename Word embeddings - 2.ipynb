{
 "cells": [
  {
   "cell_type": "markdown",
   "metadata": {},
   "source": [
    "# Tutorial - word2vec using pytorch"
   ]
  },
  {
   "cell_type": "markdown",
   "metadata": {},
   "source": [
    "This notebook introduces how to implement the NLP technique, so-called word2vec, using pytorch. The main goal of word2vec is to build a word embedding, i.e. latent and semantic free representation of word in a continuous space."
   ]
  },
  {
   "cell_type": "code",
   "execution_count": null,
   "metadata": {},
   "outputs": [
    {
     "name": "stderr",
     "output_type": "stream",
     "text": [
      "[nltk_data] Downloading package brown to\n",
      "[nltk_data]     C:\\Users\\t158185\\AppData\\Roaming\\nltk_data...\n",
      "[nltk_data]   Package brown is already up-to-date!\n"
     ]
    }
   ],
   "source": [
    "import re\n",
    "import nltk\n",
    "nltk.download('brown')\n",
    "import itertools\n",
    "\n",
    "from nltk.corpus import brown\n",
    "\n",
    "corpus = []\n",
    "for cat in brown.categories():\n",
    "    for text_id in brown.fileids(cat):\n",
    "        raw_text = list(itertools.chain(*brown.sents(text_id)))\n",
    "        text = ' '.join(raw_text)\n",
    "        text = text.lower()\n",
    "        text.replace('\\n', ' ')\n",
    "        text = re.sub('[^a-z ]+', '',text)\n",
    "        corpus.append([w for w in text.split() if w != ''])"
   ]
  },
  {
   "cell_type": "code",
   "execution_count": null,
   "metadata": {},
   "outputs": [
    {
     "data": {
      "text/plain": [
       "['dan', 'morgan', 'told', 'himself', 'he']"
      ]
     },
     "execution_count": null,
     "metadata": {},
     "output_type": "execute_result"
    }
   ],
   "source": [
    "corpus[0][:5]"
   ]
  },
  {
   "cell_type": "code",
   "execution_count": null,
   "metadata": {},
   "outputs": [],
   "source": [
    "from fastai2.text.all import *\n",
    "from torch.utils.data import Dataset\n",
    "from torch.nn.modules.loss import *"
   ]
  },
  {
   "cell_type": "markdown",
   "metadata": {},
   "source": [
    "# Subsampling of frequent words"
   ]
  },
  {
   "cell_type": "code",
   "execution_count": null,
   "metadata": {},
   "outputs": [],
   "source": [
    "class DataReader:\n",
    "    NEGATIVE_TABLE_SIZE = 1e8\n",
    "    \n",
    "    def __init__(self, corpus, min_count=3):\n",
    "        self.negatives=[]\n",
    "        self.discards=[]\n",
    "        self.negpos=0\n",
    "        \n",
    "        self.word2id=dict()\n",
    "        self.id2word=dict()\n",
    "        self.sentences_count = 0\n",
    "        self.token_count = 0\n",
    "        self.word_frequency=dict()\n",
    "        self.corpus = corpus\n",
    "        self.create_freq_table(corpus, min_count)\n",
    "        self.init_table_discards()\n",
    "        self.init_table_negatives()\n",
    "    \n",
    "    def __len__(self):\n",
    "        return len(self.corpus)\n",
    "    \n",
    "    def create_freq_table(self, corpus, min_count):\n",
    "        word_counts = dict(Counter(list(itertools.chain(*corpus))))\n",
    "        \n",
    "        wid=0\n",
    "        total_count = 0\n",
    "        for w,c in word_counts.items():\n",
    "            if c < min_count:\n",
    "                continue\n",
    "            self.word2id[w] = wid\n",
    "            self.id2word[wid] = w\n",
    "            self.word_frequency[wid] = c\n",
    "            wid+=1\n",
    "            total_count +=c\n",
    "        self.total_count = total_count\n",
    "        print(\"Total embeddings \"+ str(len(self.word2id)))\n",
    "    \n",
    "    def init_table_discards(self):\n",
    "        t = 0.001\n",
    "        f = np.array(list(self.word_frequency.values())) / self.total_count\n",
    "        self.discards = np.sqrt(t/f)+ (t/f)\n",
    "        \n",
    "    def init_table_negatives(self):\n",
    "        pow_frequency = np.array(list(self.word_frequency.values())) ** 0.5\n",
    "        word_pow = sum(pow_frequency)\n",
    "\n",
    "        ratio = pow_frequency / word_pow\n",
    "        \n",
    "        count = np.round(ratio * DataReader.NEGATIVE_TABLE_SIZE)\n",
    "        for wid, c in enumerate(count):\n",
    "            self.negatives += [self.id2word[wid]] * int(c)\n",
    "        self.negatives = np.array(self.negatives)\n",
    "        \n",
    "        np.random.shuffle(self.negatives)\n",
    "    \n",
    "    def create_training_data(self, window_size=5):\n",
    "        training_data = []\n",
    "        for text in corpus:\n",
    "            words = [ w for w in text if w in self.word2id and np.random.rand() < self.discards[self.word2id[w]]]\n",
    "            boundary = np.random.randint(1, window_size)\n",
    "            for i, u in enumerate(words):\n",
    "                for j , v in enumerate(words[max(i-boundary, 0): i+boundary]):\n",
    "                    if u != v:\n",
    "                        training_data.append([u,v, self.get_negatives(u, window_size)])\n",
    "            \n",
    "        return training_data\n",
    "    \n",
    "    def get_negatives(self, target, size=5):\n",
    "        response = self.negatives[self.negpos:self.negpos+size]\n",
    "        self.negpos = (self.negpos + size) % len(self.negatives)\n",
    "        if len(response) != size:\n",
    "            return np.concatenate((response, self.negatives[0:self.negpos]))\n",
    "        return response\n",
    "\n",
    "    \n",
    "    def save(self, output_dir = Path('./output')):\n",
    "        \n",
    "        pickle.dump(list(dr.word2id.keys()), open(output_dir/'vocab.dat','wb'))\n",
    "        pickle.dump(dr.id2word, open(output_dir/'id2word.dat','wb'))\n",
    "        pickle.dump(dr.word2id, open(output_dir/'word2id.dat','wb'))\n",
    "        pickle.dump(dr.create_training_data(), open(output_dir/'train.dat','wb'))\n",
    "        \n",
    "    def load(self, input_dir = Path('./output')):\n",
    "        vocab = pickle.load(open(output_dir/'vocab.dat','rb'))\n",
    "        id2word = pickle.load(open(output_dir/'id2word.dat','rb'))\n",
    "        word2id = pickle.load(open(output_dir/'word2id.dat','rb'))\n",
    "        train = pickle.load(open(output_dir/'train.dat','rb'))\n",
    "\n",
    "        \n",
    "        return {'vocab': vocab, 'id2word': id2word, 'word2id': word2id, 'train': train}\n"
   ]
  },
  {
   "cell_type": "markdown",
   "metadata": {},
   "source": [
    "# Building Dataset"
   ]
  },
  {
   "cell_type": "markdown",
   "metadata": {},
   "source": [
    "Word2vec is a bag of words model. For each word of the dataset, we need to extract the context words, i.e. neighboring words in a certain window of fixed length. For example, in the following sentence:\n",
    "\n",
    "* My cat is lazy, it sleeps all day long\n",
    "\n",
    "If we consider the target word *lazy* and choose the window of size 2, then context words are cat, is , it and sleeps"
   ]
  },
  {
   "cell_type": "code",
   "execution_count": null,
   "metadata": {},
   "outputs": [],
   "source": [
    "class Word2VecDataset(Dataset):\n",
    "    def __init__(self, corpus, window_size):\n",
    "        self.data_reader = DataReader(corpus)\n",
    "        self.training_data = self.data_reader.create_training_data(window_size)\n",
    "        self.window_size = window_size\n",
    "        self.word2id = self.data_reader.word2id\n",
    "        \n",
    "    def __len__(self):\n",
    "        return len(self.training_data)\n",
    "    \n",
    "    def __getitem__(self, idx):\n",
    "        return ( self.word2id[self.training_data[idx][0]], \n",
    "                    self.word2id[self.training_data[idx][1]], \n",
    "                    [self.word2id[v] for v in self.training_data[idx][2]],\n",
    "                    [1, *[0 for i in range(self.window_size)]]\n",
    "               )\n",
    "\n",
    "        \n",
    "    @staticmethod\n",
    "    def collate(batches):\n",
    "        all_u = [items[0] for items in batches if len(items) > 0]\n",
    "        all_v = [items[1] for items in batches if len(items) > 0]\n",
    "        all_neg_v = [items[2] for items in batches  if len(items) > 0]\n",
    "        target = [items[3] for items in batches if len(items) > 0]\n",
    "        \n",
    "        # need to create \n",
    "        return (torch.cuda.LongTensor(all_u), \n",
    "            torch.cuda.LongTensor(all_v), \n",
    "            torch.cuda.LongTensor(all_neg_v), \n",
    "            torch.cuda.LongTensor(target))\n"
   ]
  },
  {
   "cell_type": "code",
   "execution_count": null,
   "metadata": {},
   "outputs": [
    {
     "name": "stdout",
     "output_type": "stream",
     "text": [
      "Total embeddings 20026\n"
     ]
    }
   ],
   "source": [
    "wv = Word2VecDataset(corpus, 5)"
   ]
  },
  {
   "cell_type": "code",
   "execution_count": null,
   "metadata": {},
   "outputs": [
    {
     "data": {
      "text/plain": [
       "2939493"
      ]
     },
     "execution_count": null,
     "metadata": {},
     "output_type": "execute_result"
    }
   ],
   "source": [
    "len(wv)"
   ]
  },
  {
   "cell_type": "markdown",
   "metadata": {},
   "source": [
    "# Train / test split\n",
    "\n",
    "We can split the pytorch dataset using indices or sampler. \n",
    "\n",
    "## Using indices"
   ]
  },
  {
   "cell_type": "code",
   "execution_count": null,
   "metadata": {},
   "outputs": [],
   "source": [
    "train_size = int(0.8 * len(wv))\n",
    "test_size = len(wv) - train_size\n",
    "train_dataset, test_dataset = torch.utils.data.random_split(wv, [train_size, test_size])\n",
    "\n",
    "train_loader = torch.utils.data.DataLoader(wv, batch_size=16, collate_fn=Word2VecDataset.collate )\n",
    "validation_loader = torch.utils.data.DataLoader(wv, batch_size=16 )"
   ]
  },
  {
   "cell_type": "markdown",
   "metadata": {},
   "source": [
    "## Using sampler"
   ]
  },
  {
   "cell_type": "code",
   "execution_count": null,
   "metadata": {},
   "outputs": [],
   "source": [
    "from torch.utils.data.sampler import SubsetRandomSampler\n",
    "\n",
    "shuffle_dataset=True\n",
    "random_seed=23\n",
    "valid_size = 0.2\n",
    "\n",
    "\n",
    "num_train = len(wv)\n",
    "indices = list(range(num_train))\n",
    "split = int(np.floor(valid_size * num_train))\n",
    "\n",
    "train_idx, valid_idx = indices[split:], indices[:split]\n",
    "train_sampler = SubsetRandomSampler(train_idx)\n",
    "valid_sampler = SubsetRandomSampler(valid_idx)\n",
    "\n",
    "\n",
    "if shuffle_dataset :\n",
    "    np.random.seed(random_seed)\n",
    "    np.random.shuffle(indices)\n",
    "    \n",
    "    \n",
    "train_loader = torch.utils.data.DataLoader(wv, batch_size=16, \n",
    "                                           sampler=train_sampler, collate_fn=Word2VecDataset.collate,drop_last=True)\n",
    "validation_loader = torch.utils.data.DataLoader(wv, batch_size=16,\n",
    "                                                sampler=valid_sampler,collate_fn=Word2VecDataset.collate, drop_last=True)"
   ]
  },
  {
   "cell_type": "markdown",
   "metadata": {},
   "source": [
    "# Testing"
   ]
  },
  {
   "cell_type": "code",
   "execution_count": null,
   "metadata": {},
   "outputs": [
    {
     "data": {
      "text/plain": [
       "(tensor([ 1265, 10904,   369,   201,  4107,   131, 12724,  2121,  2054,  5581,\n",
       "          3377,   187,   466,  9106,  1604,    70], device='cuda:0'),\n",
       " tensor([  430,  9059,     2,   944,   563, 19259,  1624,  9007, 10148,   592,\n",
       "           268,   542, 11417,  1904,  1546,   531], device='cuda:0'),\n",
       " tensor([[16857, 11370,  3431,  9769, 17971],\n",
       "         [ 7772,  7150,  2935,  2286,  4203],\n",
       "         [ 1434, 10702,  3234,  1763, 17753],\n",
       "         [20009,  2065,   767,  6596,  4792],\n",
       "         [  856,  1297,  4403,   192, 11634],\n",
       "         [ 6454,  6015, 13197,     4,   249],\n",
       "         [ 3500,    13, 13498,    83, 13484],\n",
       "         [13456, 15987, 10941,  4416,  5745],\n",
       "         [ 2060, 12211,   607, 19212,   482],\n",
       "         [ 7989, 15806,   296,  5057,   395],\n",
       "         [   22,   172, 15652,    86,   313],\n",
       "         [ 3715, 12709,  4921,  1215,   489],\n",
       "         [ 2165, 10409,  9309, 13156,  1701],\n",
       "         [ 4621,  4006, 17471,    12,   208],\n",
       "         [13351,    23,  1600, 12324, 19626],\n",
       "         [   76,   208,  7302,  7046,  1740]], device='cuda:0'),\n",
       " tensor([[1, 0, 0, 0, 0, 0],\n",
       "         [1, 0, 0, 0, 0, 0],\n",
       "         [1, 0, 0, 0, 0, 0],\n",
       "         [1, 0, 0, 0, 0, 0],\n",
       "         [1, 0, 0, 0, 0, 0],\n",
       "         [1, 0, 0, 0, 0, 0],\n",
       "         [1, 0, 0, 0, 0, 0],\n",
       "         [1, 0, 0, 0, 0, 0],\n",
       "         [1, 0, 0, 0, 0, 0],\n",
       "         [1, 0, 0, 0, 0, 0],\n",
       "         [1, 0, 0, 0, 0, 0],\n",
       "         [1, 0, 0, 0, 0, 0],\n",
       "         [1, 0, 0, 0, 0, 0],\n",
       "         [1, 0, 0, 0, 0, 0],\n",
       "         [1, 0, 0, 0, 0, 0],\n",
       "         [1, 0, 0, 0, 0, 0]], device='cuda:0'))"
      ]
     },
     "execution_count": null,
     "metadata": {},
     "output_type": "execute_result"
    }
   ],
   "source": [
    "batch = next(iter(train_loader)); batch"
   ]
  },
  {
   "cell_type": "markdown",
   "metadata": {},
   "source": [
    "# The network"
   ]
  },
  {
   "cell_type": "markdown",
   "metadata": {},
   "source": [
    "Now we jump into neural network. How can we build the network using the training data above"
   ]
  },
  {
   "cell_type": "code",
   "execution_count": null,
   "metadata": {},
   "outputs": [],
   "source": [
    "import torch\n",
    "import torch.nn as nn\n",
    "import torch.autograd as autograd\n",
    "import torch.optim as optim\n",
    "import torch.nn.functional as F\n",
    "from torch.nn import init\n"
   ]
  },
  {
   "cell_type": "code",
   "execution_count": null,
   "metadata": {},
   "outputs": [],
   "source": [
    "class Word2Vec2(nn.Module):\n",
    "    def __init__(self, embedding_size, vocab_size):\n",
    "        super(Word2Vec2, self).__init__()\n",
    "        self.u_embeddings = nn.Embedding(vocab_size, embedding_size)\n",
    "        self.v_embeddings = nn.Embedding(vocab_size, embedding_size)\n",
    "        self.embedding_size = embedding_size\n",
    "        \n",
    "        initrange = 1.0 / embedding_size\n",
    "        init.uniform_(self.u_embeddings.weight.data, -initrange, initrange)\n",
    "        init.constant_(self.v_embeddings.weight.data, 0)\n",
    "        \n",
    "    def forward(self, pos_u, pos_v, neg_v):\n",
    "        emb_u = self.u_embeddings(pos_u)\n",
    "        emb_v = self.v_embeddings(pos_v)\n",
    "        emb_neg_v = self.v_embeddings(neg_v)\n",
    "        \n",
    "        score = torch.sum(torch.mul(emb_u, emb_v), dim=1)\n",
    "        score = torch.clamp(score, max=10, min=-10).unsqueeze(1)                # 16 shape size\n",
    "        #print(-F.logsigmoid(score))\n",
    "        neg_score = torch.bmm(emb_neg_v, emb_u.unsqueeze(2)).squeeze()\n",
    "        neg_score = torch.clamp(neg_score,max=10, min=-10)\n",
    "        #print(-F.logsigmoid(-neg_score))\n",
    "        try:\n",
    "            return torch.cat((F.sigmoid(score), F.sigmoid(neg_score)), dim=1)\n",
    "        except:\n",
    "            return torch.cat((F.sigmoid(score), F.sigmoid(neg_score).unsqueeze(0)),dim=1)\n",
    "        \n",
    "    def save_embedding(self, id2word, file_name):\n",
    "        embedding = self.u_embeddings.weight.cpu().data.numpy()\n",
    "        with open(file_name, 'w') as f:\n",
    "            f.write('%d %d\\n' % (len(id2word), self.embedding_size))\n",
    "            for wid, w in id2word.items():\n",
    "                e = ' '.join(map(lambda x: str(x), embedding[wid]))\n",
    "                f.write('%s %s\\n' % (w, e))"
   ]
  },
  {
   "cell_type": "code",
   "execution_count": null,
   "metadata": {},
   "outputs": [],
   "source": [
    "class Word2Vec(nn.Module):\n",
    "    def __init__(self, embedding_size, vocab_size):\n",
    "        super(Word2Vec, self).__init__()\n",
    "        self.u_embeddings = nn.Embedding(vocab_size, embedding_size)\n",
    "        self.v_embeddings = nn.Embedding(vocab_size, embedding_size)\n",
    "        \n",
    "        initrange = 1.0 / embedding_size\n",
    "        init.uniform_(self.u_embeddings.weight.data, -initrange*2, initrange*2)\n",
    "        init.constant_(self.v_embeddings.weight.data, 0)\n",
    "        \n",
    "    def forward(self, pos_u, pos_v, neg_v):\n",
    "        emb_u = self.u_embeddings(pos_u)\n",
    "        emb_v = self.v_embeddings(pos_v)\n",
    "        emb_neg_v = self.v_embeddings(neg_v)\n",
    "        \n",
    "        score = torch.sum(torch.mul(emb_u, emb_v), dim=1)\n",
    "        score = torch.clamp(score, max=10, min=-10)\n",
    "        score = -F.logsigmoid(score)   # 16\n",
    "        #print(score)\n",
    "        neg_score = torch.bmm(emb_neg_v, emb_u.unsqueeze(2)).squeeze()\n",
    "        neg_score = torch.clamp(neg_score,max=10, min=-10)      # 16X\n",
    "        neg_score = -F.logsigmoid(-neg_score)  # this is same as F.log(1- F.sigmoid(1-neg_score))\n",
    "        #print(neg_score)\n",
    "        neg_score = torch.sum(neg_score, dim=1)\n",
    "        #print(score+neg_score)\n",
    "        return torch.mean(score + neg_score)\n",
    "    \n",
    "    \n",
    "    def save_embedding(self, id2word, file_name):\n",
    "        embedding = self.u_embeddings.weight.cpu().data.numpy()\n",
    "        with open(file_name, 'w') as f:\n",
    "            f.write('%d %d\\n' % (len(id2word), self.embedding_size))\n",
    "            for wid, w in id2word.items():\n",
    "                e = ' '.join(map(lambda x: str(x), embedding[wid]))\n",
    "                f.write('%s %s\\n' % (w, e))"
   ]
  },
  {
   "cell_type": "code",
   "execution_count": null,
   "metadata": {},
   "outputs": [],
   "source": [
    "model = Word2Vec(embedding_size=300, vocab_size=len(wv.word2id)).cuda()"
   ]
  },
  {
   "cell_type": "code",
   "execution_count": null,
   "metadata": {},
   "outputs": [
    {
     "data": {
      "text/plain": [
       "tensor(4.1589, device='cuda:0', grad_fn=<MeanBackward0>)"
      ]
     },
     "execution_count": null,
     "metadata": {},
     "output_type": "execute_result"
    }
   ],
   "source": [
    "model(batch[0], batch[1], batch[2])"
   ]
  },
  {
   "cell_type": "code",
   "execution_count": null,
   "metadata": {},
   "outputs": [],
   "source": [
    "model = Word2Vec2(embedding_size=300, vocab_size=len(wv.word2id)).cuda()"
   ]
  },
  {
   "cell_type": "code",
   "execution_count": null,
   "metadata": {},
   "outputs": [],
   "source": [
    "def binary_cross_entropy(pred, y): \n",
    "    return -(pred.log()*y + (1-y)*(1-pred).log()).sum(axis=1).mean()"
   ]
  },
  {
   "cell_type": "code",
   "execution_count": null,
   "metadata": {},
   "outputs": [
    {
     "data": {
      "text/plain": [
       "tensor(4.1589, device='cuda:0', grad_fn=<NegBackward>)"
      ]
     },
     "execution_count": null,
     "metadata": {},
     "output_type": "execute_result"
    }
   ],
   "source": [
    "pred = model(batch[0], batch[1], batch[2])\n",
    "binary_cross_entropy(pred, batch[3])"
   ]
  },
  {
   "cell_type": "markdown",
   "metadata": {},
   "source": [
    "# Use fastai to run"
   ]
  },
  {
   "cell_type": "code",
   "execution_count": null,
   "metadata": {},
   "outputs": [],
   "source": [
    "model = Word2Vec2(embedding_size=100, vocab_size=len(wv.word2id)).cuda()"
   ]
  },
  {
   "cell_type": "code",
   "execution_count": null,
   "metadata": {},
   "outputs": [],
   "source": [
    "dbunch = DataBunch(train_loader, validation_loader).cuda()"
   ]
  },
  {
   "cell_type": "code",
   "execution_count": null,
   "metadata": {},
   "outputs": [],
   "source": [
    "learn = Learner(dbunch,model, loss_func=binary_cross_entropy, opt_func=partial(Adam, wd=0.1, eps=1e-3)).to_fp16()"
   ]
  },
  {
   "cell_type": "code",
   "execution_count": null,
   "metadata": {},
   "outputs": [
    {
     "data": {
      "text/html": [],
      "text/plain": [
       "<IPython.core.display.HTML object>"
      ]
     },
     "metadata": {},
     "output_type": "display_data"
    },
    {
     "data": {
      "image/png": "[encoded data removed]",
      "text/plain": [
       "<Figure size 432x288 with 1 Axes>"
      ]
     },
     "metadata": {
      "needs_background": "light"
     },
     "output_type": "display_data"
    }
   ],
   "source": [
    "\n",
    "learn.lr_find()"
   ]
  },
  {
   "cell_type": "code",
   "execution_count": null,
   "metadata": {},
   "outputs": [
    {
     "data": {
      "text/html": [
       "<table border=\"1\" class=\"dataframe\">\n",
       "  <thead>\n",
       "    <tr style=\"text-align: left;\">\n",
       "      <th>epoch</th>\n",
       "      <th>train_loss</th>\n",
       "      <th>valid_loss</th>\n",
       "      <th>time</th>\n",
       "    </tr>\n",
       "  </thead>\n",
       "  <tbody>\n",
       "    <tr>\n",
       "      <td>0</td>\n",
       "      <td>4.158871</td>\n",
       "      <td>4.157591</td>\n",
       "      <td>46:04</td>\n",
       "    </tr>\n",
       "  </tbody>\n",
       "</table>"
      ],
      "text/plain": [
       "<IPython.core.display.HTML object>"
      ]
     },
     "metadata": {},
     "output_type": "display_data"
    }
   ],
   "source": [
    "learn.fit_one_cycle(1,lr_max=5*10e-3,wd=1.0)"
   ]
  },
  {
   "cell_type": "code",
   "execution_count": null,
   "metadata": {},
   "outputs": [],
   "source": [
    "learn.cbs"
   ]
  },
  {
   "cell_type": "code",
   "execution_count": null,
   "metadata": {},
   "outputs": [
    {
     "data": {
      "text/html": [],
      "text/plain": [
       "<IPython.core.display.HTML object>"
      ]
     },
     "metadata": {},
     "output_type": "display_data"
    },
    {
     "data": {
      "image/png": "[encoded data removed]",
      "text/plain": [
       "<Figure size 432x288 with 1 Axes>"
      ]
     },
     "metadata": {
      "needs_background": "light"
     },
     "output_type": "display_data"
    }
   ],
   "source": [
    "learn.lr_find()"
   ]
  },
  {
   "cell_type": "code",
   "execution_count": null,
   "metadata": {},
   "outputs": [],
   "source": [
    "learn.recorder.plot_lr_find()"
   ]
  },
  {
   "cell_type": "code",
   "execution_count": null,
   "metadata": {},
   "outputs": [
    {
     "data": {
      "image/png": "[encoded data removed]",
      "text/plain": [
       "<Figure size 432x288 with 1 Axes>"
      ]
     },
     "metadata": {
      "needs_background": "light"
     },
     "output_type": "display_data"
    }
   ],
   "source": [
    "learn.recorder.plot_loss()"
   ]
  },
  {
   "cell_type": "code",
   "execution_count": null,
   "metadata": {},
   "outputs": [],
   "source": [
    "from gensim.models import KeyedVectors\n",
    "model = KeyedVectors.load_word2vec_format(\"word_embeddings.txt\")"
   ]
  },
  {
   "cell_type": "code",
   "execution_count": null,
   "metadata": {},
   "outputs": [
    {
     "name": "stderr",
     "output_type": "stream",
     "text": [
      "C:\\Users\\t158185\\AppData\\Local\\Continuum\\anaconda3\\lib\\site-packages\\gensim\\models\\keyedvectors.py:2377: RuntimeWarning: divide by zero encountered in true_divide\n",
      "  return (m / dist).astype(REAL)\n"
     ]
    },
    {
     "data": {
      "text/plain": [
       "[('former', 0.43849676847457886),\n",
       " ('ballot', 0.4359632432460785),\n",
       " ('peter', 0.4338271915912628),\n",
       " ('howard', 0.42440634965896606),\n",
       " ('agriculture', 0.42155084013938904),\n",
       " ('earlier', 0.41551852226257324),\n",
       " ('miller', 0.41462981700897217),\n",
       " ('designs', 0.40562668442726135),\n",
       " ('toll', 0.4046321511268616),\n",
       " ('king', 0.403326153755188)]"
      ]
     },
     "execution_count": null,
     "metadata": {},
     "output_type": "execute_result"
    }
   ],
   "source": [
    "model.most_similar(\"mother\")"
   ]
  },
  {
   "cell_type": "code",
   "execution_count": null,
   "metadata": {},
   "outputs": [
    {
     "data": {
      "text/plain": [
       "[('midnight', 0.594296932220459),\n",
       " ('powell', 0.5909057259559631),\n",
       " ('implements', 0.5603249669075012),\n",
       " ('dusseldorf', 0.5540580749511719),\n",
       " ('festivities', 0.5511586666107178),\n",
       " ('wage', 0.5501848459243774),\n",
       " ('merit', 0.543738067150116),\n",
       " ('succeed', 0.5423159003257751),\n",
       " ('independent', 0.5349534153938293),\n",
       " ('talked', 0.5343658328056335)]"
      ]
     },
     "execution_count": null,
     "metadata": {},
     "output_type": "execute_result"
    }
   ],
   "source": [
    "model.most_similar(\"queen\")"
   ]
  },
  {
   "cell_type": "code",
   "execution_count": null,
   "metadata": {},
   "outputs": [],
   "source": [
    "import gensim, logging"
   ]
  },
  {
   "cell_type": "code",
   "execution_count": null,
   "metadata": {},
   "outputs": [],
   "source": [
    "model = gensim.models.Word2Vec(min_count=1,size=100,window=3,sg=0,negative=5)\n",
    "model.build_vocab(corpus)\n"
   ]
  },
  {
   "cell_type": "code",
   "execution_count": null,
   "metadata": {},
   "outputs": [
    {
     "data": {
      "text/plain": [
       "(2034778, 2610120)"
      ]
     },
     "execution_count": null,
     "metadata": {},
     "output_type": "execute_result"
    }
   ],
   "source": [
    "model.train(corpus, total_examples=len(corpus), epochs=30)"
   ]
  },
  {
   "cell_type": "code",
   "execution_count": null,
   "metadata": {},
   "outputs": [],
   "source": [
    "model.init_sims(replace=True)\n"
   ]
  },
  {
   "cell_type": "code",
   "execution_count": null,
   "metadata": {},
   "outputs": [
    {
     "name": "stderr",
     "output_type": "stream",
     "text": [
      "C:\\Users\\t158185\\AppData\\Local\\Continuum\\anaconda3\\lib\\site-packages\\ipykernel_launcher.py:1: DeprecationWarning: Call to deprecated `most_similar` (Method will be removed in 4.0.0, use self.wv.most_similar() instead).\n",
      "  \"\"\"Entry point for launching an IPython kernel.\n"
     ]
    },
    {
     "data": {
      "text/plain": [
       "[('written', 0.9856124520301819),\n",
       " ('possibly', 0.9807665944099426),\n",
       " ('anywhere', 0.9805192947387695),\n",
       " ('losing', 0.9757179617881775),\n",
       " ('difference', 0.9738084077835083),\n",
       " ('mobile', 0.9729167222976685),\n",
       " ('engineers', 0.9717029333114624),\n",
       " ('heritage', 0.9707537889480591),\n",
       " ('doing', 0.9704898595809937),\n",
       " ('taking', 0.969912588596344)]"
      ]
     },
     "execution_count": null,
     "metadata": {},
     "output_type": "execute_result"
    }
   ],
   "source": [
    "model.most_similar('happy')"
   ]
  },
  {
   "cell_type": "code",
   "execution_count": null,
   "metadata": {},
   "outputs": [],
   "source": []
  }
 ],
 "metadata": {
  "kernelspec": {
   "display_name": "Python 3.7.1 64-bit ('base': conda)",
   "language": "python",
   "name": "python37164bitbaseconda387944bc4e8e4a1c87919da3be7aca06"
  }
 },
 "nbformat": 4,
 "nbformat_minor": 2
}
